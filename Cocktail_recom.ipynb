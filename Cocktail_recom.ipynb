{
 "cells": [
  {
   "cell_type": "markdown",
   "metadata": {},
   "source": [
    "A code to suggest cocktails based on ingredients"
   ]
  },
  {
   "cell_type": "code",
   "execution_count": 2,
   "metadata": {},
   "outputs": [],
   "source": [
    "import requests\n",
    "from bs4 import BeautifulSoup as bs\n",
    "import csv\n",
    "import time\n",
    "import re\n",
    "import pandas as pd\n",
    "from sklearn.metrics.pairwise import cosine_similarity\n",
    "from sklearn.feature_extraction.text import CountVectorizer"
   ]
  },
  {
   "cell_type": "markdown",
   "metadata": {},
   "source": [
    "First, we get the recipes from www.drinksmixer.com "
   ]
  },
  {
   "cell_type": "code",
   "execution_count": 3,
   "metadata": {},
   "outputs": [],
   "source": [
    "page_address = []\n",
    "for i in range(1,9):\n",
    "    page_address.append(\"http://www.drinksmixer.com/search/?q=cocktail&d=1&p=\" + str(i))\n",
    "\n",
    "list_1 = []\n",
    "\n",
    "for i in range(8):   \n",
    "    page = requests.get(page_address[i], time.sleep(.5))\n",
    "    \n",
    "    \n",
    "#create beautiful soup object\n",
    "    soup = bs(page.text, 'html.parser')\n",
    "\n",
    "\n",
    "    for i in range(2):\n",
    "        list_1.append(soup.find_all(class_= \"l1a\")[i].find_all(\"a\"))\n",
    "\n",
    "###flatten list_1\n",
    "list_flat = [item for sublist in list_1 for item in sublist]\n",
    "\n",
    "\n",
    "link_tails = []\n",
    "for i in range(len(list_flat)):\n",
    "        link_tails.append(list_flat[i][\"href\"])\n",
    "        \n",
    "        \n",
    "### Now Build the recipe links ###\n",
    "\n",
    "recipe_links = []\n",
    "for i in range(len(link_tails)):\n",
    "    recipe_links.append(\"http://www.drinksmixer.com\" + link_tails[i]) \n",
    "    \n"
   ]
  },
  {
   "cell_type": "code",
   "execution_count": 6,
   "metadata": {},
   "outputs": [
    {
     "data": {
      "text/plain": [
       "['http://www.drinksmixer.com/drink10391.html',\n",
       " 'http://www.drinksmixer.com/drink7469.html',\n",
       " 'http://www.drinksmixer.com/drink10313.html',\n",
       " 'http://www.drinksmixer.com/drink8489.html',\n",
       " 'http://www.drinksmixer.com/drink688.html',\n",
       " 'http://www.drinksmixer.com/drink694.html',\n",
       " 'http://www.drinksmixer.com/drink3411.html',\n",
       " 'http://www.drinksmixer.com/drink740.html',\n",
       " 'http://www.drinksmixer.com/drink746.html',\n",
       " 'http://www.drinksmixer.com/drink750.html']"
      ]
     },
     "execution_count": 6,
     "metadata": {},
     "output_type": "execute_result"
    }
   ],
   "source": [
    "recipe_links[0:10]"
   ]
  },
  {
   "cell_type": "markdown",
   "metadata": {},
   "source": [
    "Now we get the recipes"
   ]
  },
  {
   "cell_type": "code",
   "execution_count": null,
   "metadata": {},
   "outputs": [],
   "source": [
    "cocktail_rec = []\n",
    "for i in range(len(recipe_links)):\n",
    "    \n",
    "    page = requests.get(recipe_links[i], time.sleep(.5))\n",
    "\n",
    "    soup = bs(page.text, 'html.parser')\n",
    "\n",
    "    cocktail_name = soup.find(class_ = \"fn recipe_title\").string\n",
    "\n",
    "\n",
    "    ing_name = soup.find(class_ = \"ingredients\").find_all(class_=\"name\")\n",
    "    ing_amount = soup.find(class_ = \"ingredients\").find_all(class_=\"amount\")\n",
    "\n",
    "    ingredients = [item.string for item in ing_name]\n",
    "\n",
    "    cocktail_el = [cocktail_name, ingredients]\n",
    "    cocktail_rec.append(cocktail_el)"
   ]
  },
  {
   "cell_type": "code",
   "execution_count": null,
   "metadata": {},
   "outputs": [],
   "source": [
    "###  connect the words in ingredients\n",
    "    \n",
    "for j in range(len(cocktail_rec)):\n",
    "    for i in range(len(cocktail_rec[j][1])):\n",
    "        cocktail_rec[j][1][i] = cocktail_rec[j][1][i].replace(\" \",\"\")"
   ]
  },
  {
   "cell_type": "code",
   "execution_count": null,
   "metadata": {},
   "outputs": [],
   "source": [
    "###  creat the recipe list\n",
    "rec_list=[]\n",
    "for i in range(len(cocktail_rec)):\n",
    "    rec=\"\"\n",
    "    for word in cocktail_rec[i][1]:\n",
    "        rec = rec + word + \" \"\n",
    "    list_elem = [cocktail_rec[i][0].replace(\" Cocktail\",\"\").replace(\" recipe\", \"\") , rec]\n",
    "    rec_list.append(list_elem)"
   ]
  },
  {
   "cell_type": "code",
   "execution_count": 8,
   "metadata": {},
   "outputs": [],
   "source": [
    "###  make a dataframe and save as cocktail_rec\n",
    "\n",
    "recipe_df = pd.DataFrame(rec_list , columns = [\"Cocktail\" , \"Recipe\"])\n",
    "\n",
    "recipe_df.to_csv(r'E:\\...\\cocktail_rec.csv', index=False)"
   ]
  },
  {
   "cell_type": "markdown",
   "metadata": {},
   "source": [
    "Now we build the recommender system"
   ]
  },
  {
   "cell_type": "code",
   "execution_count": 9,
   "metadata": {},
   "outputs": [],
   "source": [
    "###  Read the recipe dataframe\n",
    "\n",
    "recipe_df = pd.read_csv('E:\\...\\cocktail_rec.csv')\n",
    "\n",
    "###  Find the count matrix\n",
    "\n",
    "count = CountVectorizer() \n",
    "count_matrix = count.fit_transform(recipe_df[\"Recipe\"])\n",
    "\n",
    "### generating the cosine similarity matrix\n",
    "\n",
    "cos_sim = cosine_similarity(count_matrix, count_matrix)\n",
    "\n",
    "cos_sim_df = pd.DataFrame(cos_sim )\n"
   ]
  },
  {
   "cell_type": "code",
   "execution_count": 10,
   "metadata": {},
   "outputs": [],
   "source": [
    "###  Build a function that gives the n best matches to a chosen cocktail\n",
    "\n",
    "def recommender(cocktail_name):\n",
    "    coc = cocktail_name\n",
    "    ind  = recipe_df[recipe_df[\"Cocktail\"]==coc].index[0]\n",
    "\n",
    "    score = pd.Series(cos_sim_df[ind]).sort_values(ascending= False)\n",
    "\n",
    "    best_match_ind = list(score.iloc[1:6].index)\n",
    "\n",
    "\n",
    "\n",
    "## add same scores as 5th cocktail in the list\n",
    "    for i in range(5,712):\n",
    "        if score.iloc[i+1]==score.iloc[i]:\n",
    "            best_match_ind.append(list(score.iloc[i+1:i+2].index)[0])\n",
    "        else:\n",
    "            break\n",
    "    \n",
    "    \n",
    "##make the list of at least top 5 matches     \n",
    "    best_match=[]\n",
    "    for i in best_match_ind:\n",
    "        best_match.append(recipe_df.iloc[i][0])\n",
    "        \n",
    "    return print(\"If you are a fan of \" + coc + \",\" + \" you should also try\", best_match)"
   ]
  },
  {
   "cell_type": "markdown",
   "metadata": {},
   "source": [
    "An example:"
   ]
  },
  {
   "cell_type": "code",
   "execution_count": 11,
   "metadata": {},
   "outputs": [
    {
     "name": "stdout",
     "output_type": "stream",
     "text": [
      "If you are a fan of Abbey, you should also try ['Jewel', 'Casino', 'Bijou', 'Tuxedo', 'Tailspin']\n"
     ]
    }
   ],
   "source": [
    "recommender(\"Abbey\")"
   ]
  },
  {
   "cell_type": "code",
   "execution_count": null,
   "metadata": {},
   "outputs": [],
   "source": []
  }
 ],
 "metadata": {
  "kernelspec": {
   "display_name": "Python 3",
   "language": "python",
   "name": "python3"
  },
  "language_info": {
   "codemirror_mode": {
    "name": "ipython",
    "version": 3
   },
   "file_extension": ".py",
   "mimetype": "text/x-python",
   "name": "python",
   "nbconvert_exporter": "python",
   "pygments_lexer": "ipython3",
   "version": "3.6.8"
  }
 },
 "nbformat": 4,
 "nbformat_minor": 2
}
