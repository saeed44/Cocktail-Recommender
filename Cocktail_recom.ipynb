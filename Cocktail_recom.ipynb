{
 "cells": [
  {
   "cell_type": "markdown",
   "metadata": {},
   "source": [
    "# A code to suggest cocktails based on ingredients"
   ]
  },
  {
   "cell_type": "code",
   "execution_count": 2,
   "metadata": {},
   "outputs": [],
   "source": [
    "import requests\n",
    "from bs4 import BeautifulSoup as bs\n",
    "import csv\n",
    "import time\n",
    "import re\n",
    "import pandas as pd\n",
    "from sklearn.metrics.pairwise import cosine_similarity\n",
    "from sklearn.feature_extraction.text import CountVectorizer"
   ]
  },
  {
   "cell_type": "markdown",
   "metadata": {},
   "source": [
    "### First, we get the recipes from www.drinksmixer.com . "
   ]
  },
  {
   "cell_type": "markdown",
   "metadata": {},
   "source": [
    "We get the receipes links first."
   ]
  },
  {
   "cell_type": "code",
   "execution_count": 72,
   "metadata": {},
   "outputs": [],
   "source": [
    "page_address = []\n",
    "for i in range(1,9):\n",
    "    page_address.append(\"http://www.drinksmixer.com/search/?q=cocktail&d=1&p=\" + str(i))\n",
    "\n",
    "list_1 = []\n",
    "\n",
    "for i in range(8):   \n",
    "    page = requests.get(page_address[i], time.sleep(.2))\n",
    "    \n",
    "    \n",
    "#create beautiful soup object\n",
    "    soup = bs(page.text, 'html.parser')\n",
    "\n",
    "\n",
    "    for i in range(2):\n",
    "        list_1.append(soup.find_all(class_= \"l1a\")[i].find_all(\"a\"))\n",
    "\n",
    "###flatten list_1\n",
    "list_flat = [item for sublist in list_1 for item in sublist]\n",
    "\n",
    "\n",
    "link_tails = []\n",
    "for i in range(len(list_flat)):\n",
    "        link_tails.append(list_flat[i][\"href\"])\n",
    "        \n",
    "        \n",
    "### Now Build the recipe links ###\n",
    "\n",
    "recipe_links = []\n",
    "for i in range(len(link_tails)):\n",
    "    recipe_links.append(\"http://www.drinksmixer.com\" + link_tails[i]) \n",
    "    \n"
   ]
  },
  {
   "cell_type": "code",
   "execution_count": 73,
   "metadata": {},
   "outputs": [
    {
     "data": {
      "text/plain": [
       "['http://www.drinksmixer.com/drink10391.html',\n",
       " 'http://www.drinksmixer.com/drink7469.html',\n",
       " 'http://www.drinksmixer.com/drink10313.html',\n",
       " 'http://www.drinksmixer.com/drink8489.html',\n",
       " 'http://www.drinksmixer.com/drink688.html',\n",
       " 'http://www.drinksmixer.com/drink694.html',\n",
       " 'http://www.drinksmixer.com/drink3411.html',\n",
       " 'http://www.drinksmixer.com/drink740.html',\n",
       " 'http://www.drinksmixer.com/drink746.html',\n",
       " 'http://www.drinksmixer.com/drink750.html']"
      ]
     },
     "execution_count": 73,
     "metadata": {},
     "output_type": "execute_result"
    }
   ],
   "source": [
    "recipe_links[0:10]"
   ]
  },
  {
   "cell_type": "markdown",
   "metadata": {},
   "source": [
    "Now we get the recipes:"
   ]
  },
  {
   "cell_type": "code",
   "execution_count": 341,
   "metadata": {},
   "outputs": [],
   "source": [
    "cocktail_rec = []\n",
    "for link in recipe_links:\n",
    "    \n",
    "    page = requests.get(link, time.sleep(.5))\n",
    "\n",
    "    soup = bs(page.text, 'html.parser')\n",
    "\n",
    "    cocktail_name = soup.find(class_ = \"fn recipe_title\").string\n",
    "\n",
    "\n",
    "    ing_name = soup.find(class_ = \"ingredients\").find_all(class_=\"name\")\n",
    "    ing_amount = soup.find(class_ = \"ingredients\").find_all(class_=\"amount\")\n",
    "\n",
    "    rating = soup.find(class_ = \"ratingsBox rating\").find(\"div\",{\"style\":\"font-size:36px; font-weight: bold;\"})\n",
    "    votes_num = soup.find(class_ = \"ratingsBox rating\").find(\"span\",{\"class\":\"count\"})\n",
    "    \n",
    "    if rating != None:\n",
    "        rating = rating.string\n",
    "    if votes_num != None:\n",
    "        votes_num = votes_num.string\n",
    "\n",
    "    ingredients = [item.string for item in ing_name]\n",
    "\n",
    "    cocktail_el = [cocktail_name, ingredients, rating, votes_num]\n",
    "    cocktail_rec.append(cocktail_el)"
   ]
  },
  {
   "cell_type": "markdown",
   "metadata": {},
   "source": [
    "cocktail_rec is now a nested list: [cocktail_name, [ingredients], rating, votes_num]"
   ]
  },
  {
   "cell_type": "code",
   "execution_count": 3,
   "metadata": {},
   "outputs": [],
   "source": [
    "# total of 712 rec\n",
    "# len(cocktail_rec)"
   ]
  },
  {
   "cell_type": "code",
   "execution_count": 342,
   "metadata": {},
   "outputs": [],
   "source": [
    "###  connect the words in ingredients,,, we don't want to match \"juice\"\n",
    "###  with \"juice\", orange juice --> orangejuice, lime juice -->limejuice\n",
    "    \n",
    "for j in range(len(cocktail_rec)):\n",
    "    for i in range(len(cocktail_rec[j][1])):\n",
    "        cocktail_rec[j][1][i] = cocktail_rec[j][1][i].replace(\" \",\"\")"
   ]
  },
  {
   "cell_type": "code",
   "execution_count": 343,
   "metadata": {},
   "outputs": [],
   "source": [
    "for i in range(len(cocktail_rec)):\n",
    "    rec=\"\"\n",
    "    for word in cocktail_rec[i][1]:\n",
    "        rec = rec + word + \" \"\n",
    "    cocktail_rec[i][1] = rec\n",
    "    cocktail_rec[i][0] = cocktail_rec[i][0].replace(\" Cocktail\",\"\").replace(\" recipe\", \"\")"
   ]
  },
  {
   "cell_type": "code",
   "execution_count": 345,
   "metadata": {},
   "outputs": [],
   "source": [
    "# cocktail_rec"
   ]
  },
  {
   "cell_type": "code",
   "execution_count": 347,
   "metadata": {},
   "outputs": [],
   "source": [
    "###  make a dataframe and save as cocktail_rec\n",
    "\n",
    "receipe_df = pd.DataFrame(cocktail_rec , columns = [\"Cocktail\" , \"Receipe\", \"Rating\", \"Number of Votes\" ])\n",
    "\n",
    "receipe_df.to_csv(r'E:\\Saeed\\Data Science\\cocktail recipes\\cocktail_rec.csv', index=False)"
   ]
  },
  {
   "cell_type": "code",
   "execution_count": 348,
   "metadata": {},
   "outputs": [
    {
     "data": {
      "text/html": [
       "<div>\n",
       "<style scoped>\n",
       "    .dataframe tbody tr th:only-of-type {\n",
       "        vertical-align: middle;\n",
       "    }\n",
       "\n",
       "    .dataframe tbody tr th {\n",
       "        vertical-align: top;\n",
       "    }\n",
       "\n",
       "    .dataframe thead th {\n",
       "        text-align: right;\n",
       "    }\n",
       "</style>\n",
       "<table border=\"1\" class=\"dataframe\">\n",
       "  <thead>\n",
       "    <tr style=\"text-align: right;\">\n",
       "      <th></th>\n",
       "      <th>Cocktail</th>\n",
       "      <th>Receipe</th>\n",
       "      <th>Rating</th>\n",
       "      <th>Number of Votes</th>\n",
       "    </tr>\n",
       "  </thead>\n",
       "  <tbody>\n",
       "    <tr>\n",
       "      <th>0</th>\n",
       "      <td>187</td>\n",
       "      <td>RedRum®rum 99Bananas®bananaschnapps strawberry...</td>\n",
       "      <td>7.8</td>\n",
       "      <td>47</td>\n",
       "    </tr>\n",
       "    <tr>\n",
       "      <th>1</th>\n",
       "      <td>209 East</td>\n",
       "      <td>Sauza®HornitosReposadotequila Cointreau®orange...</td>\n",
       "      <td>7.4</td>\n",
       "      <td>27</td>\n",
       "    </tr>\n",
       "    <tr>\n",
       "      <th>2</th>\n",
       "      <td>352</td>\n",
       "      <td>151proofrum GreyGoose®vodka WildTurkey®bourbon...</td>\n",
       "      <td>7.0</td>\n",
       "      <td>16</td>\n",
       "    </tr>\n",
       "    <tr>\n",
       "      <th>3</th>\n",
       "      <td>A1</td>\n",
       "      <td>gin GrandMarnier®orangeliqueur lemonjuice gren...</td>\n",
       "      <td>8.5</td>\n",
       "      <td>23</td>\n",
       "    </tr>\n",
       "    <tr>\n",
       "      <th>4</th>\n",
       "      <td>Abbey</td>\n",
       "      <td>gin orangebitters oranges cherry</td>\n",
       "      <td>9.0</td>\n",
       "      <td>21</td>\n",
       "    </tr>\n",
       "  </tbody>\n",
       "</table>\n",
       "</div>"
      ],
      "text/plain": [
       "   Cocktail                                            Receipe Rating  \\\n",
       "0       187  RedRum®rum 99Bananas®bananaschnapps strawberry...    7.8   \n",
       "1  209 East  Sauza®HornitosReposadotequila Cointreau®orange...    7.4   \n",
       "2       352  151proofrum GreyGoose®vodka WildTurkey®bourbon...    7.0   \n",
       "3        A1  gin GrandMarnier®orangeliqueur lemonjuice gren...    8.5   \n",
       "4     Abbey                  gin orangebitters oranges cherry     9.0   \n",
       "\n",
       "  Number of Votes  \n",
       "0              47  \n",
       "1              27  \n",
       "2              16  \n",
       "3              23  \n",
       "4              21  "
      ]
     },
     "execution_count": 348,
     "metadata": {},
     "output_type": "execute_result"
    }
   ],
   "source": [
    "receipe_df.head()"
   ]
  },
  {
   "cell_type": "markdown",
   "metadata": {},
   "source": [
    "# Now we make some observations"
   ]
  },
  {
   "cell_type": "code",
   "execution_count": 83,
   "metadata": {},
   "outputs": [],
   "source": [
    "### read the receipe datafram\n",
    "receipe_df = pd.read_csv('E:\\Saeed\\Data Science\\cocktail recipes\\cocktail_rec.csv')"
   ]
  },
  {
   "cell_type": "code",
   "execution_count": 6,
   "metadata": {},
   "outputs": [
    {
     "data": {
      "text/html": [
       "<div>\n",
       "<style scoped>\n",
       "    .dataframe tbody tr th:only-of-type {\n",
       "        vertical-align: middle;\n",
       "    }\n",
       "\n",
       "    .dataframe tbody tr th {\n",
       "        vertical-align: top;\n",
       "    }\n",
       "\n",
       "    .dataframe thead th {\n",
       "        text-align: right;\n",
       "    }\n",
       "</style>\n",
       "<table border=\"1\" class=\"dataframe\">\n",
       "  <thead>\n",
       "    <tr style=\"text-align: right;\">\n",
       "      <th></th>\n",
       "      <th>Cocktail</th>\n",
       "      <th>Receipe</th>\n",
       "      <th>Rating</th>\n",
       "      <th>Number of Votes</th>\n",
       "    </tr>\n",
       "  </thead>\n",
       "  <tbody>\n",
       "    <tr>\n",
       "      <th>0</th>\n",
       "      <td>187</td>\n",
       "      <td>RedRum®rum 99Bananas®bananaschnapps strawberry...</td>\n",
       "      <td>7.8</td>\n",
       "      <td>47.0</td>\n",
       "    </tr>\n",
       "    <tr>\n",
       "      <th>1</th>\n",
       "      <td>209 East</td>\n",
       "      <td>Sauza®HornitosReposadotequila Cointreau®orange...</td>\n",
       "      <td>7.4</td>\n",
       "      <td>27.0</td>\n",
       "    </tr>\n",
       "    <tr>\n",
       "      <th>2</th>\n",
       "      <td>352</td>\n",
       "      <td>151proofrum GreyGoose®vodka WildTurkey®bourbon...</td>\n",
       "      <td>7.0</td>\n",
       "      <td>16.0</td>\n",
       "    </tr>\n",
       "    <tr>\n",
       "      <th>3</th>\n",
       "      <td>A1</td>\n",
       "      <td>gin GrandMarnier®orangeliqueur lemonjuice gren...</td>\n",
       "      <td>8.5</td>\n",
       "      <td>23.0</td>\n",
       "    </tr>\n",
       "    <tr>\n",
       "      <th>4</th>\n",
       "      <td>Abbey</td>\n",
       "      <td>gin orangebitters oranges cherry</td>\n",
       "      <td>9.0</td>\n",
       "      <td>21.0</td>\n",
       "    </tr>\n",
       "  </tbody>\n",
       "</table>\n",
       "</div>"
      ],
      "text/plain": [
       "   Cocktail                                            Receipe  Rating  \\\n",
       "0       187  RedRum®rum 99Bananas®bananaschnapps strawberry...     7.8   \n",
       "1  209 East  Sauza®HornitosReposadotequila Cointreau®orange...     7.4   \n",
       "2       352  151proofrum GreyGoose®vodka WildTurkey®bourbon...     7.0   \n",
       "3        A1  gin GrandMarnier®orangeliqueur lemonjuice gren...     8.5   \n",
       "4     Abbey                  gin orangebitters oranges cherry      9.0   \n",
       "\n",
       "   Number of Votes  \n",
       "0             47.0  \n",
       "1             27.0  \n",
       "2             16.0  \n",
       "3             23.0  \n",
       "4             21.0  "
      ]
     },
     "execution_count": 6,
     "metadata": {},
     "output_type": "execute_result"
    }
   ],
   "source": [
    "receipe_df.head()"
   ]
  },
  {
   "cell_type": "code",
   "execution_count": 86,
   "metadata": {},
   "outputs": [
    {
     "data": {
      "text/html": [
       "<div>\n",
       "<style scoped>\n",
       "    .dataframe tbody tr th:only-of-type {\n",
       "        vertical-align: middle;\n",
       "    }\n",
       "\n",
       "    .dataframe tbody tr th {\n",
       "        vertical-align: top;\n",
       "    }\n",
       "\n",
       "    .dataframe thead th {\n",
       "        text-align: right;\n",
       "    }\n",
       "</style>\n",
       "<table border=\"1\" class=\"dataframe\">\n",
       "  <thead>\n",
       "    <tr style=\"text-align: right;\">\n",
       "      <th></th>\n",
       "      <th>Cocktail</th>\n",
       "      <th>Receipe</th>\n",
       "      <th>Rating</th>\n",
       "      <th>Number of Votes</th>\n",
       "      <th>Number of Ingredients</th>\n",
       "    </tr>\n",
       "  </thead>\n",
       "  <tbody>\n",
       "    <tr>\n",
       "      <th>0</th>\n",
       "      <td>187</td>\n",
       "      <td>RedRum®rum 99Bananas®bananaschnapps strawberrydaiquirimix sweetandsourmix triplesec powderedsugar 7-Up®soda icecream whippedcream</td>\n",
       "      <td>7.8</td>\n",
       "      <td>47.0</td>\n",
       "      <td>9</td>\n",
       "    </tr>\n",
       "    <tr>\n",
       "      <th>1</th>\n",
       "      <td>209 East</td>\n",
       "      <td>Sauza®HornitosReposadotequila Cointreau®orangeliqueur MarieBrizard®CremedeFraisedesBois limejuice</td>\n",
       "      <td>7.4</td>\n",
       "      <td>27.0</td>\n",
       "      <td>4</td>\n",
       "    </tr>\n",
       "    <tr>\n",
       "      <th>2</th>\n",
       "      <td>352</td>\n",
       "      <td>151proofrum GreyGoose®vodka WildTurkey®bourbonwhiskey</td>\n",
       "      <td>7.0</td>\n",
       "      <td>16.0</td>\n",
       "      <td>3</td>\n",
       "    </tr>\n",
       "  </tbody>\n",
       "</table>\n",
       "</div>"
      ],
      "text/plain": [
       "   Cocktail  \\\n",
       "0  187        \n",
       "1  209 East   \n",
       "2  352        \n",
       "\n",
       "                                                                                                                              Receipe  \\\n",
       "0  RedRum®rum 99Bananas®bananaschnapps strawberrydaiquirimix sweetandsourmix triplesec powderedsugar 7-Up®soda icecream whippedcream    \n",
       "1  Sauza®HornitosReposadotequila Cointreau®orangeliqueur MarieBrizard®CremedeFraisedesBois limejuice                                    \n",
       "2  151proofrum GreyGoose®vodka WildTurkey®bourbonwhiskey                                                                                \n",
       "\n",
       "   Rating  Number of Votes  Number of Ingredients  \n",
       "0  7.8     47.0             9                      \n",
       "1  7.4     27.0             4                      \n",
       "2  7.0     16.0             3                      "
      ]
     },
     "execution_count": 86,
     "metadata": {},
     "output_type": "execute_result"
    }
   ],
   "source": [
    "## build a series of number of ingredients and add to receipe_df\n",
    "\n",
    "receipe_df['Number of Ingredients']  = receipe_df['Receipe'].apply(lambda st : len(st.split()))\n",
    "receipe_df.head(3)"
   ]
  },
  {
   "cell_type": "code",
   "execution_count": 88,
   "metadata": {},
   "outputs": [
    {
     "data": {
      "text/plain": [
       "[2, 3, 4, 5, 6, 7, 8, 9]"
      ]
     },
     "execution_count": 88,
     "metadata": {},
     "output_type": "execute_result"
    }
   ],
   "source": [
    "sorted(receipe_df['Number of Ingredients'].unique())"
   ]
  },
  {
   "cell_type": "code",
   "execution_count": 87,
   "metadata": {},
   "outputs": [
    {
     "data": {
      "text/plain": [
       "Cocktail                 0  \n",
       "Receipe                  0  \n",
       "Rating                   136\n",
       "Number of Votes          136\n",
       "Number of Ingredients    0  \n",
       "dtype: int64"
      ]
     },
     "execution_count": 87,
     "metadata": {},
     "output_type": "execute_result"
    }
   ],
   "source": [
    "## missing element ?\n",
    "\n",
    "receipe_df.isnull().sum()"
   ]
  },
  {
   "cell_type": "code",
   "execution_count": 79,
   "metadata": {},
   "outputs": [],
   "source": [
    "# not_rated_df = receipe_df[receipe_df.isnull().any(axis=1)]"
   ]
  },
  {
   "cell_type": "code",
   "execution_count": 80,
   "metadata": {},
   "outputs": [],
   "source": [
    "# not_rated_df.head(8)"
   ]
  },
  {
   "cell_type": "markdown",
   "metadata": {},
   "source": [
    "## Look at drinks that have ratings"
   ]
  },
  {
   "cell_type": "code",
   "execution_count": 82,
   "metadata": {},
   "outputs": [],
   "source": [
    "# build a new data frame by removing None values for rate \n",
    "receipe_df_rate = receipe_df.dropna()\n",
    "# receipe_df_rate.isnull().sum()"
   ]
  },
  {
   "cell_type": "code",
   "execution_count": 59,
   "metadata": {},
   "outputs": [
    {
     "data": {
      "text/plain": [
       "count    576.000000\n",
       "mean     8.031076  \n",
       "std      1.729918  \n",
       "min      1.000000  \n",
       "25%      7.175000  \n",
       "50%      8.500000  \n",
       "75%      9.300000  \n",
       "max      10.000000 \n",
       "Name: Rating, dtype: float64"
      ]
     },
     "execution_count": 59,
     "metadata": {},
     "output_type": "execute_result"
    }
   ],
   "source": [
    "receipe_df_rate[\"Rating\"].describe()"
   ]
  },
  {
   "cell_type": "code",
   "execution_count": 89,
   "metadata": {},
   "outputs": [
    {
     "data": {
      "text/html": [
       "<div>\n",
       "<style scoped>\n",
       "    .dataframe tbody tr th:only-of-type {\n",
       "        vertical-align: middle;\n",
       "    }\n",
       "\n",
       "    .dataframe tbody tr th {\n",
       "        vertical-align: top;\n",
       "    }\n",
       "\n",
       "    .dataframe thead th {\n",
       "        text-align: right;\n",
       "    }\n",
       "</style>\n",
       "<table border=\"1\" class=\"dataframe\">\n",
       "  <thead>\n",
       "    <tr style=\"text-align: right;\">\n",
       "      <th></th>\n",
       "      <th>Cocktail</th>\n",
       "      <th>Receipe</th>\n",
       "      <th>Rating</th>\n",
       "      <th>Number of Votes</th>\n",
       "      <th>Number of Ingredients</th>\n",
       "    </tr>\n",
       "  </thead>\n",
       "  <tbody>\n",
       "    <tr>\n",
       "      <th>170</th>\n",
       "      <td>Cosmopolitan</td>\n",
       "      <td>vodka triplesec Rose's®limejuice cranberryjuice</td>\n",
       "      <td>9.1</td>\n",
       "      <td>2673.0</td>\n",
       "      <td>4</td>\n",
       "    </tr>\n",
       "    <tr>\n",
       "      <th>432</th>\n",
       "      <td>Margarita</td>\n",
       "      <td>tequila triplesec limejuice</td>\n",
       "      <td>9.1</td>\n",
       "      <td>1120.0</td>\n",
       "      <td>3</td>\n",
       "    </tr>\n",
       "    <tr>\n",
       "      <th>690</th>\n",
       "      <td>Washington Apple</td>\n",
       "      <td>CrownRoyal®Canadianwhisky DeKuyper®SourApplePuckerschnapps cranberryjuice</td>\n",
       "      <td>9.6</td>\n",
       "      <td>918.0</td>\n",
       "      <td>3</td>\n",
       "    </tr>\n",
       "    <tr>\n",
       "      <th>431</th>\n",
       "      <td>Manhattan</td>\n",
       "      <td>sweetvermouth bourbonwhiskey Angostura®bitters maraschinocherry orange</td>\n",
       "      <td>9.5</td>\n",
       "      <td>717.0</td>\n",
       "      <td>5</td>\n",
       "    </tr>\n",
       "    <tr>\n",
       "      <th>438</th>\n",
       "      <td>Martini</td>\n",
       "      <td>gin dryvermouth</td>\n",
       "      <td>8.9</td>\n",
       "      <td>599.0</td>\n",
       "      <td>2</td>\n",
       "    </tr>\n",
       "    <tr>\n",
       "      <th>417</th>\n",
       "      <td>Long Island</td>\n",
       "      <td>tequila gin whiskey whiterum vodka sugarsyrup Coca-Cola® orangejuice</td>\n",
       "      <td>9.6</td>\n",
       "      <td>442.0</td>\n",
       "      <td>8</td>\n",
       "    </tr>\n",
       "    <tr>\n",
       "      <th>487</th>\n",
       "      <td>Negroni</td>\n",
       "      <td>gin sweetvermouth Campari®bitters</td>\n",
       "      <td>9.6</td>\n",
       "      <td>311.0</td>\n",
       "      <td>3</td>\n",
       "    </tr>\n",
       "    <tr>\n",
       "      <th>57</th>\n",
       "      <td>Bellini</td>\n",
       "      <td>peachnectar lemonjuice peachschnapps Champagne crushedice</td>\n",
       "      <td>9.5</td>\n",
       "      <td>230.0</td>\n",
       "      <td>5</td>\n",
       "    </tr>\n",
       "    <tr>\n",
       "      <th>291</th>\n",
       "      <td>Fruit</td>\n",
       "      <td>orangejuice grapefruitjuice passion-fruitjuice mangojuice pineapplejuice limejuice kiwisyrup</td>\n",
       "      <td>8.6</td>\n",
       "      <td>221.0</td>\n",
       "      <td>7</td>\n",
       "    </tr>\n",
       "    <tr>\n",
       "      <th>196</th>\n",
       "      <td>Daiquiri</td>\n",
       "      <td>lightrum limes powderedsugar</td>\n",
       "      <td>9.2</td>\n",
       "      <td>186.0</td>\n",
       "      <td>3</td>\n",
       "    </tr>\n",
       "  </tbody>\n",
       "</table>\n",
       "</div>"
      ],
      "text/plain": [
       "             Cocktail  \\\n",
       "170  Cosmopolitan       \n",
       "432  Margarita          \n",
       "690  Washington Apple   \n",
       "431  Manhattan          \n",
       "438  Martini            \n",
       "417  Long Island        \n",
       "487  Negroni            \n",
       "57   Bellini            \n",
       "291  Fruit              \n",
       "196  Daiquiri           \n",
       "\n",
       "                                                                                           Receipe  \\\n",
       "170  vodka triplesec Rose's®limejuice cranberryjuice                                                 \n",
       "432  tequila triplesec limejuice                                                                     \n",
       "690  CrownRoyal®Canadianwhisky DeKuyper®SourApplePuckerschnapps cranberryjuice                       \n",
       "431  sweetvermouth bourbonwhiskey Angostura®bitters maraschinocherry orange                          \n",
       "438  gin dryvermouth                                                                                 \n",
       "417  tequila gin whiskey whiterum vodka sugarsyrup Coca-Cola® orangejuice                            \n",
       "487  gin sweetvermouth Campari®bitters                                                               \n",
       "57   peachnectar lemonjuice peachschnapps Champagne crushedice                                       \n",
       "291  orangejuice grapefruitjuice passion-fruitjuice mangojuice pineapplejuice limejuice kiwisyrup    \n",
       "196  lightrum limes powderedsugar                                                                    \n",
       "\n",
       "     Rating  Number of Votes  Number of Ingredients  \n",
       "170  9.1     2673.0           4                      \n",
       "432  9.1     1120.0           3                      \n",
       "690  9.6     918.0            3                      \n",
       "431  9.5     717.0            5                      \n",
       "438  8.9     599.0            2                      \n",
       "417  9.6     442.0            8                      \n",
       "487  9.6     311.0            3                      \n",
       "57   9.5     230.0            5                      \n",
       "291  8.6     221.0            7                      \n",
       "196  9.2     186.0            3                      "
      ]
     },
     "execution_count": 89,
     "metadata": {},
     "output_type": "execute_result"
    }
   ],
   "source": [
    "# most used drinks\n",
    "\n",
    "receipe_df_rate.sort_values(by=\"Number of Votes\", ascending=False).head(10)"
   ]
  },
  {
   "cell_type": "code",
   "execution_count": null,
   "metadata": {},
   "outputs": [],
   "source": []
  },
  {
   "cell_type": "code",
   "execution_count": 90,
   "metadata": {},
   "outputs": [],
   "source": [
    "#look at the rating distribution, (first build a dict to count # of each rating)\n",
    "\n",
    "rating_dict = {}\n",
    "for rating in set(receipe_df_rate[\"Rating\"]):\n",
    "    num_of_rating = list(receipe_df_rate[\"Rating\"]).count(rating)\n",
    "    rating_dict[rating] = num_of_rating\n",
    "\n",
    "rating_list = sorted(rating_dict.items(), key=lambda x:x[0])"
   ]
  },
  {
   "cell_type": "code",
   "execution_count": 20,
   "metadata": {},
   "outputs": [],
   "source": [
    "# rating_list"
   ]
  },
  {
   "cell_type": "code",
   "execution_count": 91,
   "metadata": {},
   "outputs": [
    {
     "data": {
      "image/png": "[encoded data removed]",
      "text/plain": [
       "<Figure size 432x288 with 1 Axes>"
      ]
     },
     "metadata": {
      "needs_background": "light"
     },
     "output_type": "display_data"
    }
   ],
   "source": [
    "import matplotlib.pyplot as plt\n",
    "\n",
    "# rating distribution\n",
    "num_of_rating = [count for rating,count in rating_list]\n",
    "rating = [rating for rating,count in rating_list]\n",
    "\n",
    "plt.bar(rating, num_of_rating, width=0.1, align='center')\n",
    "\n",
    "plt.xticks(ticks=[1,2,3,4,5,6,7,8,9,10])\n",
    "plt.xlabel('Rating')\n",
    "plt.ylabel('Count')\n",
    "\n",
    "plt.show()"
   ]
  },
  {
   "cell_type": "code",
   "execution_count": 92,
   "metadata": {},
   "outputs": [],
   "source": [
    "## How many cocktails have a specific number of ingredients\n",
    "## num_dict={num_of_ingridients: (rate<5, 5<rate<8, 8<rate<10)}\n",
    "\n",
    "num_dict = {}\n",
    "for ingr_num in receipe_df_rate['Number of Ingredients']:\n",
    "    \n",
    "    # number of cocktails with rating below 5\n",
    "    num_of_cockt_5 = list(receipe_df_rate[receipe_df_rate['Rating']<=5]['Number of Ingredients']).count(ingr_num)\n",
    "    # number of cocktails with rating between 5 and 8\n",
    "    num_of_cockt_8 = list(receipe_df_rate[(receipe_df_rate['Rating']<=8) & (receipe_df_rate['Rating']>5)]['Number of Ingredients']).count(ingr_num)\n",
    "    # number of cocktails with rating between 8 and 10\n",
    "    num_of_cockt_10 = list(receipe_df_rate[receipe_df_rate['Rating']>8]['Number of Ingredients']).count(ingr_num)\n",
    "    \n",
    "    num_dict[ingr_num] = (num_of_cockt_5, num_of_cockt_8, num_of_cockt_10) \n",
    "    \n",
    "num_sorted = sorted(num_dict.items(), key=lambda x: x[0])"
   ]
  },
  {
   "cell_type": "code",
   "execution_count": 93,
   "metadata": {},
   "outputs": [],
   "source": [
    "# [count for ingr,count in num_sorted]"
   ]
  },
  {
   "cell_type": "code",
   "execution_count": 94,
   "metadata": {},
   "outputs": [
    {
     "data": {
      "image/png": "[encoded data removed]",
      "text/plain": [
       "<Figure size 432x288 with 1 Axes>"
      ]
     },
     "metadata": {
      "needs_background": "light"
     },
     "output_type": "display_data"
    }
   ],
   "source": [
    "num_of_ingr = [ingr for ingr,count in num_sorted]\n",
    "\n",
    "num_of_cockt_5 = [count[0] for ingr,count in num_sorted]\n",
    "num_of_cockt_7 = [count[1] for ingr,count in num_sorted]\n",
    "num_of_cockt_10 = [count[2] for ingr,count in num_sorted]\n",
    "\n",
    "\n",
    "p1 = plt.bar(num_of_ingr, num_of_cockt_5, align='center')\n",
    "\n",
    "p2 = plt.bar(num_of_ingr, num_of_cockt_7, bottom=num_of_cockt_5 , align='center')\n",
    "\n",
    "p3 = plt.bar(num_of_ingr, num_of_cockt_10, bottom=num_of_cockt_7 , align='center')\n",
    "\n",
    "plt.legend((p1,p2,p3),('Rating < 5','5 < Rating < 8 ','8 < Rating < 10'))\n",
    "\n",
    "plt.xlabel('Number of Ingredients')\n",
    "plt.ylabel('Number of Cocktails')\n",
    "\n",
    "plt.show()\n"
   ]
  },
  {
   "cell_type": "code",
   "execution_count": 61,
   "metadata": {},
   "outputs": [
    {
     "data": {
      "text/plain": [
       "count    576.000000 \n",
       "mean     21.961806  \n",
       "std      135.104244 \n",
       "min      1.000000   \n",
       "25%      2.000000   \n",
       "50%      4.000000   \n",
       "75%      9.000000   \n",
       "max      2673.000000\n",
       "Name: Number of Votes, dtype: float64"
      ]
     },
     "execution_count": 61,
     "metadata": {},
     "output_type": "execute_result"
    }
   ],
   "source": [
    "receipe_df_rate[\"Number of Votes\"].describe()"
   ]
  },
  {
   "cell_type": "markdown",
   "metadata": {},
   "source": [
    "<font color=blue> Drinks with 7,8 and 9 ingredients sorted by number of votes </font>"
   ]
  },
  {
   "cell_type": "code",
   "execution_count": 60,
   "metadata": {},
   "outputs": [
    {
     "data": {
      "text/html": [
       "<div>\n",
       "<style scoped>\n",
       "    .dataframe tbody tr th:only-of-type {\n",
       "        vertical-align: middle;\n",
       "    }\n",
       "\n",
       "    .dataframe tbody tr th {\n",
       "        vertical-align: top;\n",
       "    }\n",
       "\n",
       "    .dataframe thead th {\n",
       "        text-align: right;\n",
       "    }\n",
       "</style>\n",
       "<table border=\"1\" class=\"dataframe\">\n",
       "  <thead>\n",
       "    <tr style=\"text-align: right;\">\n",
       "      <th></th>\n",
       "      <th>Cocktail</th>\n",
       "      <th>Receipe</th>\n",
       "      <th>Rating</th>\n",
       "      <th>Number of Votes</th>\n",
       "      <th>Number of Ingredients</th>\n",
       "    </tr>\n",
       "  </thead>\n",
       "  <tbody>\n",
       "    <tr>\n",
       "      <th>417</th>\n",
       "      <td>Long Island</td>\n",
       "      <td>tequila gin whiskey whiterum vodka sugarsyrup Coca-Cola® orangejuice</td>\n",
       "      <td>9.6</td>\n",
       "      <td>442.0</td>\n",
       "      <td>8</td>\n",
       "    </tr>\n",
       "    <tr>\n",
       "      <th>291</th>\n",
       "      <td>Fruit</td>\n",
       "      <td>orangejuice grapefruitjuice passion-fruitjuice mangojuice pineapplejuice limejuice kiwisyrup</td>\n",
       "      <td>8.6</td>\n",
       "      <td>221.0</td>\n",
       "      <td>7</td>\n",
       "    </tr>\n",
       "    <tr>\n",
       "      <th>416</th>\n",
       "      <td>Long Beach</td>\n",
       "      <td>tequila triplesec rum vodka gin sweetandsourmix cranberryjuice</td>\n",
       "      <td>9.3</td>\n",
       "      <td>114.0</td>\n",
       "      <td>7</td>\n",
       "    </tr>\n",
       "    <tr>\n",
       "      <th>0</th>\n",
       "      <td>187</td>\n",
       "      <td>RedRum®rum 99Bananas®bananaschnapps strawberrydaiquirimix sweetandsourmix triplesec powderedsugar 7-Up®soda icecream whippedcream</td>\n",
       "      <td>7.8</td>\n",
       "      <td>47.0</td>\n",
       "      <td>9</td>\n",
       "    </tr>\n",
       "    <tr>\n",
       "      <th>606</th>\n",
       "      <td>Sazerac</td>\n",
       "      <td>sugar ryewhiskey Deva®absinthe Peychaud®bitters Angostura®bitters lemon ice</td>\n",
       "      <td>9.5</td>\n",
       "      <td>34.0</td>\n",
       "      <td>7</td>\n",
       "    </tr>\n",
       "    <tr>\n",
       "      <th>292</th>\n",
       "      <td>Fruit #2</td>\n",
       "      <td>Absolut®Mandrinvodka CaptainMorgan®ParrotBaypineapplerum peachschnapps Midori®melonliqueur DeKuyper®SourApplePuckerschnapps pineapplejuice grenadinesyrup</td>\n",
       "      <td>9.3</td>\n",
       "      <td>15.0</td>\n",
       "      <td>7</td>\n",
       "    </tr>\n",
       "    <tr>\n",
       "      <th>317</th>\n",
       "      <td>H-Bomb</td>\n",
       "      <td>vodka tequila rum gin triplesec sweetandsourmix Hpnotiq®liqueur</td>\n",
       "      <td>9.5</td>\n",
       "      <td>15.0</td>\n",
       "      <td>7</td>\n",
       "    </tr>\n",
       "    <tr>\n",
       "      <th>640</th>\n",
       "      <td>Stoli Fruit</td>\n",
       "      <td>Stoli®Ohranjvodka Stoli®Razberivodka Stoli®Strasberivodka Stoli®Persikvodka orangejuice pineapplejuice grenadinesyrup 7-Up®soda icecubes</td>\n",
       "      <td>7.1</td>\n",
       "      <td>9.0</td>\n",
       "      <td>9</td>\n",
       "    </tr>\n",
       "    <tr>\n",
       "      <th>353</th>\n",
       "      <td>Iced Tea</td>\n",
       "      <td>darkrum brandy triplesec orangejuice limejuice cola tea</td>\n",
       "      <td>7.4</td>\n",
       "      <td>7.0</td>\n",
       "      <td>7</td>\n",
       "    </tr>\n",
       "    <tr>\n",
       "      <th>565</th>\n",
       "      <td>Purple</td>\n",
       "      <td>SouthernComfort®peachliqueur BlueCuracaoliqueur blueberryliqueur sloegin limejuice sweetandsourmix 7-Up®soda</td>\n",
       "      <td>5.5</td>\n",
       "      <td>4.0</td>\n",
       "      <td>7</td>\n",
       "    </tr>\n",
       "  </tbody>\n",
       "</table>\n",
       "</div>"
      ],
      "text/plain": [
       "        Cocktail  \\\n",
       "417  Long Island   \n",
       "291  Fruit         \n",
       "416  Long Beach    \n",
       "0    187           \n",
       "606  Sazerac       \n",
       "292  Fruit #2      \n",
       "317  H-Bomb        \n",
       "640  Stoli Fruit   \n",
       "353  Iced Tea      \n",
       "565  Purple        \n",
       "\n",
       "                                                                                                                                                        Receipe  \\\n",
       "417  tequila gin whiskey whiterum vodka sugarsyrup Coca-Cola® orangejuice                                                                                         \n",
       "291  orangejuice grapefruitjuice passion-fruitjuice mangojuice pineapplejuice limejuice kiwisyrup                                                                 \n",
       "416  tequila triplesec rum vodka gin sweetandsourmix cranberryjuice                                                                                               \n",
       "0    RedRum®rum 99Bananas®bananaschnapps strawberrydaiquirimix sweetandsourmix triplesec powderedsugar 7-Up®soda icecream whippedcream                            \n",
       "606  sugar ryewhiskey Deva®absinthe Peychaud®bitters Angostura®bitters lemon ice                                                                                  \n",
       "292  Absolut®Mandrinvodka CaptainMorgan®ParrotBaypineapplerum peachschnapps Midori®melonliqueur DeKuyper®SourApplePuckerschnapps pineapplejuice grenadinesyrup    \n",
       "317  vodka tequila rum gin triplesec sweetandsourmix Hpnotiq®liqueur                                                                                              \n",
       "640  Stoli®Ohranjvodka Stoli®Razberivodka Stoli®Strasberivodka Stoli®Persikvodka orangejuice pineapplejuice grenadinesyrup 7-Up®soda icecubes                     \n",
       "353  darkrum brandy triplesec orangejuice limejuice cola tea                                                                                                      \n",
       "565  SouthernComfort®peachliqueur BlueCuracaoliqueur blueberryliqueur sloegin limejuice sweetandsourmix 7-Up®soda                                                 \n",
       "\n",
       "     Rating  Number of Votes  Number of Ingredients  \n",
       "417  9.6     442.0            8                      \n",
       "291  8.6     221.0            7                      \n",
       "416  9.3     114.0            7                      \n",
       "0    7.8     47.0             9                      \n",
       "606  9.5     34.0             7                      \n",
       "292  9.3     15.0             7                      \n",
       "317  9.5     15.0             7                      \n",
       "640  7.1     9.0              9                      \n",
       "353  7.4     7.0              7                      \n",
       "565  5.5     4.0              7                      "
      ]
     },
     "execution_count": 60,
     "metadata": {},
     "output_type": "execute_result"
    }
   ],
   "source": [
    "\n",
    "receipe_df_rate[(receipe_df_rate[\"Number of Ingredients\"]==9)|(receipe_df_rate[\"Number of Ingredients\"]==8)|(receipe_df_rate[\"Number of Ingredients\"]==7)].sort_values(by=\"Number of Votes\",ascending=False).head(10)"
   ]
  },
  {
   "cell_type": "code",
   "execution_count": 17,
   "metadata": {},
   "outputs": [],
   "source": [
    "# receipe_df_rate.corr(method=\"pearson\")"
   ]
  },
  {
   "cell_type": "markdown",
   "metadata": {},
   "source": [
    "# <font color='blue'> Now we look at the original data frame </font>"
   ]
  },
  {
   "cell_type": "code",
   "execution_count": 95,
   "metadata": {},
   "outputs": [],
   "source": [
    "## How many cocktails have a specific number of ingredients\n",
    "num_dict = {}\n",
    "for ingr_num in receipe_df['Number of Ingredients']:\n",
    "    num_of_cockt = list(receipe_df['Number of Ingredients']).count(ingr_num)\n",
    "    num_dict[ingr_num] = num_of_cockt \n",
    "    \n",
    "num_sorted = sorted(num_dict.items(), key=lambda x: x[0])\n",
    "# num_sorted"
   ]
  },
  {
   "cell_type": "code",
   "execution_count": 96,
   "metadata": {},
   "outputs": [],
   "source": [
    "num_of_cockt = [count for ingr,count in num_sorted]\n",
    "num_of_ingr = [ingr for ingr,count in num_sorted]\n",
    "\n",
    "# print(num_of_cockt)\n",
    "# print(num_of_ingr)"
   ]
  },
  {
   "cell_type": "code",
   "execution_count": 97,
   "metadata": {},
   "outputs": [
    {
     "data": {
      "image/png": "[encoded data removed]",
      "text/plain": [
       "<Figure size 432x288 with 1 Axes>"
      ]
     },
     "metadata": {
      "needs_background": "light"
     },
     "output_type": "display_data"
    }
   ],
   "source": [
    "## plot number of cocktails vs number of ingredients\n",
    "\n",
    "plt.bar(num_of_ingr, num_of_cockt, align='center')\n",
    "\n",
    "plt.xlabel('Number of Ingredients')\n",
    "plt.ylabel('Number of Cocktails')\n",
    "\n",
    "plt.show()\n"
   ]
  },
  {
   "cell_type": "code",
   "execution_count": null,
   "metadata": {},
   "outputs": [],
   "source": []
  },
  {
   "cell_type": "markdown",
   "metadata": {},
   "source": [
    "# <font color='blue'> Recommendation system for the original data frame </font>"
   ]
  },
  {
   "cell_type": "code",
   "execution_count": 105,
   "metadata": {},
   "outputs": [],
   "source": [
    "###  Find the count matrix\n",
    "\n",
    "count_vec = CountVectorizer() \n",
    "feature_vec = count_vec.fit_transform(receipe_df[\"Receipe\"])\n",
    "\n",
    "\n",
    "### generating the cosine similarity matrix\n",
    "\n",
    "cos_sim = cosine_similarity(feature_vec, feature_vec)\n",
    "\n",
    "cos_sim_df = pd.DataFrame(cos_sim )\n",
    "\n",
    "\n",
    "### find the count vector \n",
    "vocab_vec = count_vec.fit(receipe_df[\"Receipe\"])\n",
    "\n"
   ]
  },
  {
   "cell_type": "code",
   "execution_count": 106,
   "metadata": {},
   "outputs": [],
   "source": [
    "# cos_sim_df"
   ]
  },
  {
   "cell_type": "code",
   "execution_count": 107,
   "metadata": {},
   "outputs": [],
   "source": [
    "# vocab_vec.vocabulary_"
   ]
  },
  {
   "cell_type": "code",
   "execution_count": 108,
   "metadata": {},
   "outputs": [],
   "source": [
    "# build a list of ingredients and the # of times they have been used\n",
    "\n",
    "freq_list = sorted([(ing, count) for ing,count in vocab_vec.vocabulary_.items()], key=lambda x:x[1], reverse=True)"
   ]
  },
  {
   "cell_type": "code",
   "execution_count": 110,
   "metadata": {},
   "outputs": [
    {
     "data": {
      "text/html": [
       "<div>\n",
       "<style scoped>\n",
       "    .dataframe tbody tr th:only-of-type {\n",
       "        vertical-align: middle;\n",
       "    }\n",
       "\n",
       "    .dataframe tbody tr th {\n",
       "        vertical-align: top;\n",
       "    }\n",
       "\n",
       "    .dataframe thead th {\n",
       "        text-align: right;\n",
       "    }\n",
       "</style>\n",
       "<table border=\"1\" class=\"dataframe\">\n",
       "  <thead>\n",
       "    <tr style=\"text-align: right;\">\n",
       "      <th></th>\n",
       "      <th>Ingredient</th>\n",
       "      <th>Number of Uses</th>\n",
       "    </tr>\n",
       "  </thead>\n",
       "  <tbody>\n",
       "    <tr>\n",
       "      <th>0</th>\n",
       "      <td>zubrowka</td>\n",
       "      <td>429</td>\n",
       "    </tr>\n",
       "    <tr>\n",
       "      <th>1</th>\n",
       "      <td>yoghurt</td>\n",
       "      <td>428</td>\n",
       "    </tr>\n",
       "    <tr>\n",
       "      <th>2</th>\n",
       "      <td>yellowchartreuse</td>\n",
       "      <td>427</td>\n",
       "    </tr>\n",
       "    <tr>\n",
       "      <th>3</th>\n",
       "      <td>worcestershiresauce</td>\n",
       "      <td>426</td>\n",
       "    </tr>\n",
       "    <tr>\n",
       "      <th>4</th>\n",
       "      <td>wildturkey</td>\n",
       "      <td>425</td>\n",
       "    </tr>\n",
       "    <tr>\n",
       "      <th>5</th>\n",
       "      <td>whitewine</td>\n",
       "      <td>424</td>\n",
       "    </tr>\n",
       "    <tr>\n",
       "      <th>6</th>\n",
       "      <td>whitetequila</td>\n",
       "      <td>423</td>\n",
       "    </tr>\n",
       "    <tr>\n",
       "      <th>7</th>\n",
       "      <td>whitesambuca</td>\n",
       "      <td>422</td>\n",
       "    </tr>\n",
       "    <tr>\n",
       "      <th>8</th>\n",
       "      <td>whiterum</td>\n",
       "      <td>421</td>\n",
       "    </tr>\n",
       "    <tr>\n",
       "      <th>9</th>\n",
       "      <td>whiteport</td>\n",
       "      <td>420</td>\n",
       "    </tr>\n",
       "  </tbody>\n",
       "</table>\n",
       "</div>"
      ],
      "text/plain": [
       "            Ingredient  Number of Uses\n",
       "0  zubrowka             429           \n",
       "1  yoghurt              428           \n",
       "2  yellowchartreuse     427           \n",
       "3  worcestershiresauce  426           \n",
       "4  wildturkey           425           \n",
       "5  whitewine            424           \n",
       "6  whitetequila         423           \n",
       "7  whitesambuca         422           \n",
       "8  whiterum             421           \n",
       "9  whiteport            420           "
      ]
     },
     "execution_count": 110,
     "metadata": {},
     "output_type": "execute_result"
    }
   ],
   "source": [
    "### The most used ingredients (Top 10)\n",
    "freq_list_df = pd.DataFrame(freq_list, columns=['Ingredient','Number of Uses'])\n",
    "\n",
    "freq_list_df.iloc[0:10]"
   ]
  },
  {
   "cell_type": "code",
   "execution_count": 112,
   "metadata": {},
   "outputs": [],
   "source": [
    "# the least used ingredients\n",
    "\n",
    "# freq_list_df.iloc[-10:]"
   ]
  },
  {
   "cell_type": "code",
   "execution_count": 113,
   "metadata": {},
   "outputs": [],
   "source": [
    "## A function to show the common ingredients between two cocktails\n",
    "\n",
    "def common_ingredients(coct1,coct2):\n",
    "    index1  = receipe_df[receipe_df[\"Cocktail\"]==coct1].index[0]\n",
    "    index2  = receipe_df[receipe_df[\"Cocktail\"]==coct2].index[0]\n",
    "    \n",
    "    receipe1 = receipe_df.iloc[index1][\"Receipe\"].split()\n",
    "    receipe2 = receipe_df.iloc[index2][\"Receipe\"].split()\n",
    "    \n",
    "    common_ingr = []\n",
    "    for ingredient in receipe1:\n",
    "        if ingredient in receipe2:\n",
    "            common_ingr.append(ingredient)\n",
    "            \n",
    "    return common_ingr"
   ]
  },
  {
   "cell_type": "code",
   "execution_count": 114,
   "metadata": {},
   "outputs": [],
   "source": [
    "# a function to return the ingredients\n",
    "def ingredients(cocktail):\n",
    "    ing = receipe_df[receipe_df[\"Cocktail\"]==cocktail][\"Receipe\"].values[0].split()\n",
    "    return ing"
   ]
  },
  {
   "cell_type": "code",
   "execution_count": 115,
   "metadata": {},
   "outputs": [
    {
     "data": {
      "text/plain": [
       "['gin', 'orangebitters', 'cherry']"
      ]
     },
     "execution_count": 115,
     "metadata": {},
     "output_type": "execute_result"
    }
   ],
   "source": [
    "common_ingredients(\"Abbey\",\"Bijou\")"
   ]
  },
  {
   "cell_type": "code",
   "execution_count": 133,
   "metadata": {},
   "outputs": [],
   "source": [
    "###  Build a function that gives the n best matches to two chosen cocktails ###\n",
    "\n",
    "def cocktail_recommender2(cocktail1, cocktail2):\n",
    "    coct1 = cocktail1\n",
    "    coct2 = cocktail2\n",
    "    ind1  = receipe_df[receipe_df[\"Cocktail\"]==coct1].index[0]\n",
    "    ind2  = receipe_df[receipe_df[\"Cocktail\"]==coct2].index[0]\n",
    "\n",
    "    score1 = pd.Series(cos_sim_df[ind1]).drop(labels=[ind1,ind2])    \n",
    "    score2 = pd.Series(cos_sim_df[ind2]).drop(labels=[ind1,ind2])\n",
    "    \n",
    "    score = (score1+score2)/2\n",
    "    score = score.sort_values(ascending= False)\n",
    "    \n",
    "\n",
    "    ## top 5 elements\n",
    "    best_match_ind = list(score.head(5).index)\n",
    "\n",
    "\n",
    "\n",
    "    ## add same scores as 5th cocktail in the list\n",
    "    for i in range(5,712):\n",
    "        if score.iloc[i+1]==score.iloc[i]:\n",
    "            best_match_ind.append(list(score.iloc[i+1:i+2].index)[0])\n",
    "        else:\n",
    "            break\n",
    "    \n",
    "    \n",
    "    ## make the list of at least top 5 matches     \n",
    "    best_match=[]\n",
    "    for i in best_match_ind:\n",
    "        best_match.append(receipe_df.iloc[i][0])\n",
    "        \n",
    "    \n",
    "        \n",
    "    joint = \", \"\n",
    "    line = \"_\"*100\n",
    "    print(f\"If you are a fan of \\\"{coct1}\\\" and \\\"{coct2}\\\", you should also try {joint.join(best_match)}.\\n{line}\")\n",
    "    \n",
    "    coct1_ing = receipe_df.iloc[ind1][\"Receipe\"].split()\n",
    "    coct2_ing = receipe_df.iloc[ind2][\"Receipe\"].split()\n",
    "\n",
    "#     print(f\"{coct1} Ingredients are: {coct1_ing}\")\n",
    "#     print(\"-\"*100)\n",
    "#     print(f\"{coct2} Ingredients are: {coct2_ing}\")\n",
    "\n",
    "#     print(\"\\n\")\n",
    "    \n",
    "#     for match in best_match:\n",
    "#         extra_ing = [ing for ing in ingredients(match) if ing not in ingredients(coct)]\n",
    "        \n",
    "#         print(f\"Common Ingredients with {match}: {common_ingredients(coct,match)}, Extra Ingredients: {extra_ing}\")\n",
    "#         print(\"_\"*100)\n",
    "        \n",
    "#         '''\n",
    "    "
   ]
  },
  {
   "cell_type": "code",
   "execution_count": 134,
   "metadata": {},
   "outputs": [
    {
     "name": "stdout",
     "output_type": "stream",
     "text": [
      "If you are a fan of \"Abbey\" and \"Southern Gin\", you should also try Opal, Tailspin, Crystal Slipper, Hi Ho, Jewel, Bijou, Alaska.\n",
      "____________________________________________________________________________________________________\n"
     ]
    }
   ],
   "source": [
    "cocktail_recommender2(\"Abbey\", \"Southern Gin\")"
   ]
  },
  {
   "cell_type": "code",
   "execution_count": 126,
   "metadata": {},
   "outputs": [],
   "source": [
    "###  Build a function that gives the n best matches to a chosen cocktail ###\n",
    "\n",
    "def cocktail_recommender(cocktail_name):\n",
    "    coct = cocktail_name\n",
    "    ind  = receipe_df[receipe_df[\"Cocktail\"]==coct].index[0]\n",
    "\n",
    "    score = pd.Series(cos_sim_df[ind]).sort_values(ascending= False)\n",
    "\n",
    "    ## ignore the score of the first index which is 1, corresponds to \"coct\" itself\n",
    "    best_match_ind = list(score.iloc[1:6].index)\n",
    "\n",
    "\n",
    "\n",
    "    ## add same scores as 5th cocktail in the list\n",
    "    for i in range(5,712):\n",
    "        if score.iloc[i+1]==score.iloc[i]:\n",
    "            best_match_ind.append(list(score.iloc[i+1:i+2].index)[0])\n",
    "        else:\n",
    "            break\n",
    "    \n",
    "    \n",
    "    ## make the list of at least top 5 matches     \n",
    "    best_match=[]\n",
    "    for i in best_match_ind:\n",
    "        best_match.append(receipe_df.iloc[i][0])\n",
    "        \n",
    "    \n",
    "        \n",
    "    joint = \", \"\n",
    "    line = \"-\"*100\n",
    "    print(f\"If you are a fan of \\\"{coct}\\\", you should also try {joint.join(best_match)}.\\n{line}\")\n",
    "    \n",
    "    coct_ing = receipe_df.iloc[ind][\"Receipe\"].split()\n",
    "    print(f\"\\\"{coct}\\\" Ingredients are: {coct_ing}\")\n",
    "    print(\"\\n\")\n",
    "    \n",
    "    for match in best_match:\n",
    "        extra_ing = [ing for ing in ingredients(match) if ing not in ingredients(coct)]\n",
    "        \n",
    "        print(f\"Common Ingredients with \\\"{match}\\\": {common_ingredients(coct,match)}, Extra Ingredients: {extra_ing}\")\n",
    "        print(\"_\"*100)\n",
    "        "
   ]
  },
  {
   "cell_type": "markdown",
   "metadata": {},
   "source": [
    "An example:"
   ]
  },
  {
   "cell_type": "code",
   "execution_count": 127,
   "metadata": {},
   "outputs": [
    {
     "name": "stdout",
     "output_type": "stream",
     "text": [
      "If you are a fan of \"Negroni\", you should also try Caricature, Perfect, Fernet Branca, Farmer's, Dry Negroni.\n",
      "----------------------------------------------------------------------------------------------------\n",
      "\"Negroni\" Ingredients are: ['gin', 'sweetvermouth', 'Campari®bitters']\n",
      "\n",
      "\n",
      "Common Ingredients with \"Caricature\": ['gin', 'sweetvermouth', 'Campari®bitters'], Extra Ingredients: ['grapefruitjuice', 'simplesyrup']\n",
      "____________________________________________________________________________________________________\n",
      "Common Ingredients with \"Perfect\": ['gin', 'sweetvermouth'], Extra Ingredients: ['dryvermouth', 'bitters']\n",
      "____________________________________________________________________________________________________\n",
      "Common Ingredients with \"Fernet Branca\": ['gin', 'sweetvermouth'], Extra Ingredients: ['FernetBranca®bitters']\n",
      "____________________________________________________________________________________________________\n",
      "Common Ingredients with \"Farmer's\": ['gin', 'sweetvermouth'], Extra Ingredients: ['dryvermouth', 'bitters']\n",
      "____________________________________________________________________________________________________\n",
      "Common Ingredients with \"Dry Negroni\": ['gin', 'Campari®bitters'], Extra Ingredients: ['dryvermouth']\n",
      "____________________________________________________________________________________________________\n"
     ]
    }
   ],
   "source": [
    "cocktail_recommender(\"Negroni\")"
   ]
  },
  {
   "cell_type": "code",
   "execution_count": 130,
   "metadata": {},
   "outputs": [
    {
     "data": {
      "text/html": [
       "<div>\n",
       "<style scoped>\n",
       "    .dataframe tbody tr th:only-of-type {\n",
       "        vertical-align: middle;\n",
       "    }\n",
       "\n",
       "    .dataframe tbody tr th {\n",
       "        vertical-align: top;\n",
       "    }\n",
       "\n",
       "    .dataframe thead th {\n",
       "        text-align: right;\n",
       "    }\n",
       "</style>\n",
       "<table border=\"1\" class=\"dataframe\">\n",
       "  <thead>\n",
       "    <tr style=\"text-align: right;\">\n",
       "      <th></th>\n",
       "      <th>Cocktail</th>\n",
       "      <th>Receipe</th>\n",
       "      <th>Rating</th>\n",
       "      <th>Number of Votes</th>\n",
       "      <th>Number of Ingredients</th>\n",
       "    </tr>\n",
       "  </thead>\n",
       "  <tbody>\n",
       "    <tr>\n",
       "      <th>271</th>\n",
       "      <td>Farmer's</td>\n",
       "      <td>dryvermouth sweetvermouth gin bitters</td>\n",
       "      <td>7.0</td>\n",
       "      <td>1.0</td>\n",
       "      <td>4</td>\n",
       "    </tr>\n",
       "    <tr>\n",
       "      <th>538</th>\n",
       "      <td>Perfect</td>\n",
       "      <td>sweetvermouth dryvermouth gin bitters</td>\n",
       "      <td>9.2</td>\n",
       "      <td>13.0</td>\n",
       "      <td>4</td>\n",
       "    </tr>\n",
       "  </tbody>\n",
       "</table>\n",
       "</div>"
      ],
      "text/plain": [
       "     Cocktail                                 Receipe  Rating  \\\n",
       "271  Farmer's  dryvermouth sweetvermouth gin bitters   7.0      \n",
       "538  Perfect   sweetvermouth dryvermouth gin bitters   9.2      \n",
       "\n",
       "     Number of Votes  Number of Ingredients  \n",
       "271  1.0              4                      \n",
       "538  13.0             4                      "
      ]
     },
     "execution_count": 130,
     "metadata": {},
     "output_type": "execute_result"
    }
   ],
   "source": [
    "receipe_df[(receipe_df[\"Cocktail\"]==\"Perfect\")|((receipe_df[\"Cocktail\"]==\"Farmer's\"))]"
   ]
  },
  {
   "cell_type": "code",
   "execution_count": null,
   "metadata": {},
   "outputs": [],
   "source": []
  }
 ],
 "metadata": {
  "kernelspec": {
   "display_name": "Python 3",
   "language": "python",
   "name": "python3"
  },
  "language_info": {
   "codemirror_mode": {
    "name": "ipython",
    "version": 3
   },
   "file_extension": ".py",
   "mimetype": "text/x-python",
   "name": "python",
   "nbconvert_exporter": "python",
   "pygments_lexer": "ipython3",
   "version": "3.7.4"
  }
 },
 "nbformat": 4,
 "nbformat_minor": 2
}
