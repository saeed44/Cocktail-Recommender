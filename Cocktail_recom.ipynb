{
 "cells": [
  {
   "cell_type": "markdown",
   "metadata": {},
   "source": [
    "In this notebook I collect some drinks data, explore the data and build a drink recommender based on their ingredients. <br>\n",
    "\n",
    "Data source: www.drinksmixer.com"
   ]
  },
  {
   "cell_type": "code",
   "execution_count": 45,
   "metadata": {},
   "outputs": [],
   "source": [
    "from sklearn.feature_extraction.text import CountVectorizer\n",
    "from sklearn.metrics.pairwise import cosine_similarity\n",
    "from bs4 import BeautifulSoup as bs\n",
    "import matplotlib.pyplot as plt\n",
    "import seaborn as sns\n",
    "import pandas as pd\n",
    "import numpy as np\n",
    "import requests\n",
    "import time\n",
    "import csv\n",
    "import re"
   ]
  },
  {
   "cell_type": "markdown",
   "metadata": {},
   "source": [
    "## Data extraction"
   ]
  },
  {
   "cell_type": "markdown",
   "metadata": {},
   "source": [
    "Get the recipes from www.drinksmixer.com"
   ]
  },
  {
   "cell_type": "markdown",
   "metadata": {},
   "source": [
    "Get the recipes links first:"
   ]
  },
  {
   "cell_type": "code",
   "execution_count": 3,
   "metadata": {},
   "outputs": [],
   "source": [
    "page_address = []\n",
    "for i in range(1,9):\n",
    "    page_address.append(\"http://www.drinksmixer.com/search/?q=cocktail&d=1&p=\" + str(i))\n",
    "\n",
    "list_1 = []\n",
    "\n",
    "for i in range(8):   \n",
    "    page = requests.get(page_address[i], time.sleep(.2))\n",
    "    \n",
    "    \n",
    "#create beautiful soup object\n",
    "    soup = bs(page.text, 'html.parser')\n",
    "\n",
    "\n",
    "    for i in range(2):\n",
    "        list_1.append(soup.find_all(class_= \"l1a\")[i].find_all(\"a\"))\n",
    "\n",
    "###flatten list_1\n",
    "list_flat = [item for sublist in list_1 for item in sublist]\n",
    "\n",
    "\n",
    "link_tails = []\n",
    "for i in range(len(list_flat)):\n",
    "        link_tails.append(list_flat[i][\"href\"])\n",
    "        \n",
    "        \n",
    "### Now Build the recipe links ###\n",
    "\n",
    "recipe_links = []\n",
    "for i in range(len(link_tails)):\n",
    "    recipe_links.append(\"http://www.drinksmixer.com\" + link_tails[i]) \n",
    "    \n"
   ]
  },
  {
   "cell_type": "code",
   "execution_count": 4,
   "metadata": {},
   "outputs": [
    {
     "data": {
      "text/plain": [
       "['http://www.drinksmixer.com/drink10391.html',\n",
       " 'http://www.drinksmixer.com/drink7469.html',\n",
       " 'http://www.drinksmixer.com/drink10313.html',\n",
       " 'http://www.drinksmixer.com/drink8489.html',\n",
       " 'http://www.drinksmixer.com/drink688.html',\n",
       " 'http://www.drinksmixer.com/drink694.html',\n",
       " 'http://www.drinksmixer.com/drink3411.html',\n",
       " 'http://www.drinksmixer.com/drink740.html',\n",
       " 'http://www.drinksmixer.com/drink746.html',\n",
       " 'http://www.drinksmixer.com/drink750.html']"
      ]
     },
     "execution_count": 4,
     "metadata": {},
     "output_type": "execute_result"
    }
   ],
   "source": [
    "recipe_links[0:10]"
   ]
  },
  {
   "cell_type": "markdown",
   "metadata": {},
   "source": [
    "Now, get the recipes:"
   ]
  },
  {
   "cell_type": "code",
   "execution_count": 13,
   "metadata": {},
   "outputs": [],
   "source": [
    "def extract(recipe_links):\n",
    "    '''\n",
    "    Given the recipe's links get the ingredients and ratings\n",
    "    '''\n",
    "    \n",
    "    cocktail_rec = []\n",
    "    for link in recipe_links:\n",
    "\n",
    "        page = requests.get(link, time.sleep(0.2))\n",
    "\n",
    "        soup = bs(page.text, 'html.parser')\n",
    "\n",
    "        cocktail_name = soup.find(class_ = \"fn recipe_title\").string\n",
    "\n",
    "\n",
    "        ing_name = soup.find(class_ = \"ingredients\").find_all(class_=\"name\")\n",
    "        ing_amount = soup.find(class_ = \"ingredients\").find_all(class_=\"amount\")\n",
    "\n",
    "        rating = soup.find(class_ = \"ratingsBox rating\").find(\"div\",{\"style\":\"font-size:36px; font-weight: bold;\"})\n",
    "        votes_num = soup.find(class_ = \"ratingsBox rating\").find(\"span\",{\"class\":\"count\"})\n",
    "\n",
    "        if rating != None:\n",
    "            rating = rating.string\n",
    "        if votes_num != None:\n",
    "            votes_num = votes_num.string\n",
    "\n",
    "        ingredients = [item.string for item in ing_name]\n",
    "\n",
    "        cocktail_el = [cocktail_name, ingredients, rating, votes_num]\n",
    "        cocktail_rec.append(cocktail_el)\n",
    "        \n",
    "    return cocktail_rec"
   ]
  },
  {
   "cell_type": "markdown",
   "metadata": {},
   "source": [
    "## Data cleaning"
   ]
  },
  {
   "cell_type": "markdown",
   "metadata": {},
   "source": [
    "cocktail_rec is now a nested list: [cocktail_name, [ingredients], rating, votes_num]. <br>\n",
    "\n",
    "Total of 712 rec:"
   ]
  },
  {
   "cell_type": "code",
   "execution_count": 36,
   "metadata": {},
   "outputs": [
    {
     "data": {
      "text/plain": [
       "712"
      ]
     },
     "execution_count": 36,
     "metadata": {},
     "output_type": "execute_result"
    }
   ],
   "source": [
    "cocktail_rec = extract(recipe_links)\n",
    "\n",
    "len(cocktail_rec)"
   ]
  },
  {
   "cell_type": "code",
   "execution_count": 43,
   "metadata": {},
   "outputs": [],
   "source": [
    "def clean(cocktail_rec):\n",
    "    \n",
    "    '''\n",
    "    some data cleaning and wrangling\n",
    "    '''\n",
    "    # connect the words in ingredients: we don't want to match \"juice\" with \"juice\"\n",
    "    # orange juice --> orangejuice, lime juice -->limejuice\n",
    "    try:\n",
    "        for j in range(len(cocktail_rec)):\n",
    "            for i in range(len(cocktail_rec[j][1])):\n",
    "                cocktail_rec[j][1][i] = cocktail_rec[j][1][i].replace(\" \",\"\")\n",
    "            \n",
    "        # remove the words \" Cocktail\" and \" recipe\"\n",
    "        for i in range(len(cocktail_rec)):\n",
    "            cocktail_rec[i][0] = cocktail_rec[i][0].replace(\" Cocktail\",\"\").replace(\" recipe\", \"\")\n",
    "    \n",
    "        # flatten the nested list\n",
    "        for i in range(len(cocktail_rec)):\n",
    "            rec=\"\"\n",
    "            for word in cocktail_rec[i][1]:\n",
    "                rec = rec + word + \" \"\n",
    "            cocktail_rec[i][1] = rec\n",
    "    \n",
    "    except:\n",
    "        print(\"The list is already clean and flattened\")\n",
    "        \n",
    "    return cocktail_rec\n"
   ]
  },
  {
   "cell_type": "code",
   "execution_count": 59,
   "metadata": {},
   "outputs": [],
   "source": [
    "cocktail_rec = clean(cocktail_rec)"
   ]
  },
  {
   "cell_type": "code",
   "execution_count": 100,
   "metadata": {},
   "outputs": [
    {
     "data": {
      "text/html": [
       "<div>\n",
       "<style scoped>\n",
       "    .dataframe tbody tr th:only-of-type {\n",
       "        vertical-align: middle;\n",
       "    }\n",
       "\n",
       "    .dataframe tbody tr th {\n",
       "        vertical-align: top;\n",
       "    }\n",
       "\n",
       "    .dataframe thead th {\n",
       "        text-align: right;\n",
       "    }\n",
       "</style>\n",
       "<table border=\"1\" class=\"dataframe\">\n",
       "  <thead>\n",
       "    <tr style=\"text-align: right;\">\n",
       "      <th></th>\n",
       "      <th>Cocktail</th>\n",
       "      <th>Recipe</th>\n",
       "      <th>Rating</th>\n",
       "      <th>Number of Votes</th>\n",
       "    </tr>\n",
       "  </thead>\n",
       "  <tbody>\n",
       "    <tr>\n",
       "      <th>0</th>\n",
       "      <td>187</td>\n",
       "      <td>RedRum®rum 99Bananas®bananaschnapps strawberry...</td>\n",
       "      <td>7.8</td>\n",
       "      <td>47</td>\n",
       "    </tr>\n",
       "    <tr>\n",
       "      <th>1</th>\n",
       "      <td>209 East</td>\n",
       "      <td>Sauza®HornitosReposadotequila Cointreau®orange...</td>\n",
       "      <td>7.4</td>\n",
       "      <td>27</td>\n",
       "    </tr>\n",
       "    <tr>\n",
       "      <th>2</th>\n",
       "      <td>352</td>\n",
       "      <td>151proofrum GreyGoose®vodka WildTurkey®bourbon...</td>\n",
       "      <td>7.0</td>\n",
       "      <td>16</td>\n",
       "    </tr>\n",
       "    <tr>\n",
       "      <th>3</th>\n",
       "      <td>A1</td>\n",
       "      <td>gin GrandMarnier®orangeliqueur lemonjuice gren...</td>\n",
       "      <td>8.5</td>\n",
       "      <td>23</td>\n",
       "    </tr>\n",
       "    <tr>\n",
       "      <th>4</th>\n",
       "      <td>Abbey</td>\n",
       "      <td>gin orangebitters oranges cherry</td>\n",
       "      <td>9.0</td>\n",
       "      <td>21</td>\n",
       "    </tr>\n",
       "  </tbody>\n",
       "</table>\n",
       "</div>"
      ],
      "text/plain": [
       "   Cocktail                                             Recipe Rating  \\\n",
       "0       187  RedRum®rum 99Bananas®bananaschnapps strawberry...    7.8   \n",
       "1  209 East  Sauza®HornitosReposadotequila Cointreau®orange...    7.4   \n",
       "2       352  151proofrum GreyGoose®vodka WildTurkey®bourbon...    7.0   \n",
       "3        A1  gin GrandMarnier®orangeliqueur lemonjuice gren...    8.5   \n",
       "4     Abbey                  gin orangebitters oranges cherry     9.0   \n",
       "\n",
       "  Number of Votes  \n",
       "0              47  \n",
       "1              27  \n",
       "2              16  \n",
       "3              23  \n",
       "4              21  "
      ]
     },
     "execution_count": 100,
     "metadata": {},
     "output_type": "execute_result"
    }
   ],
   "source": [
    "###  make a dataframe and save as cocktail_rec\n",
    "\n",
    "recipe_df = pd.DataFrame(cocktail_rec , columns = [\"Cocktail\" , \"Recipe\", \"Rating\", \"Number of Votes\" ])\n",
    "\n",
    "recipe_df.to_csv('./cocktail_rec.csv', index=False)\n",
    "\n",
    "recipe_df.head()"
   ]
  },
  {
   "cell_type": "markdown",
   "metadata": {},
   "source": [
    "## Some EDA"
   ]
  },
  {
   "cell_type": "code",
   "execution_count": 100,
   "metadata": {},
   "outputs": [
    {
     "data": {
      "text/html": [
       "<div>\n",
       "<style scoped>\n",
       "    .dataframe tbody tr th:only-of-type {\n",
       "        vertical-align: middle;\n",
       "    }\n",
       "\n",
       "    .dataframe tbody tr th {\n",
       "        vertical-align: top;\n",
       "    }\n",
       "\n",
       "    .dataframe thead th {\n",
       "        text-align: right;\n",
       "    }\n",
       "</style>\n",
       "<table border=\"1\" class=\"dataframe\">\n",
       "  <thead>\n",
       "    <tr style=\"text-align: right;\">\n",
       "      <th></th>\n",
       "      <th>Cocktail</th>\n",
       "      <th>Recipe</th>\n",
       "      <th>Rating</th>\n",
       "      <th>Number of Votes</th>\n",
       "    </tr>\n",
       "  </thead>\n",
       "  <tbody>\n",
       "    <tr>\n",
       "      <th>0</th>\n",
       "      <td>187</td>\n",
       "      <td>RedRum®rum 99Bananas®bananaschnapps strawberry...</td>\n",
       "      <td>7.8</td>\n",
       "      <td>47.0</td>\n",
       "    </tr>\n",
       "    <tr>\n",
       "      <th>1</th>\n",
       "      <td>209 East</td>\n",
       "      <td>Sauza®HornitosReposadotequila Cointreau®orange...</td>\n",
       "      <td>7.4</td>\n",
       "      <td>27.0</td>\n",
       "    </tr>\n",
       "    <tr>\n",
       "      <th>2</th>\n",
       "      <td>352</td>\n",
       "      <td>151proofrum GreyGoose®vodka WildTurkey®bourbon...</td>\n",
       "      <td>7.0</td>\n",
       "      <td>16.0</td>\n",
       "    </tr>\n",
       "    <tr>\n",
       "      <th>3</th>\n",
       "      <td>A1</td>\n",
       "      <td>gin GrandMarnier®orangeliqueur lemonjuice gren...</td>\n",
       "      <td>8.5</td>\n",
       "      <td>23.0</td>\n",
       "    </tr>\n",
       "    <tr>\n",
       "      <th>4</th>\n",
       "      <td>Abbey</td>\n",
       "      <td>gin orangebitters oranges cherry</td>\n",
       "      <td>9.0</td>\n",
       "      <td>21.0</td>\n",
       "    </tr>\n",
       "  </tbody>\n",
       "</table>\n",
       "</div>"
      ],
      "text/plain": [
       "   Cocktail                                             Recipe  Rating  \\\n",
       "0       187  RedRum®rum 99Bananas®bananaschnapps strawberry...     7.8   \n",
       "1  209 East  Sauza®HornitosReposadotequila Cointreau®orange...     7.4   \n",
       "2       352  151proofrum GreyGoose®vodka WildTurkey®bourbon...     7.0   \n",
       "3        A1  gin GrandMarnier®orangeliqueur lemonjuice gren...     8.5   \n",
       "4     Abbey                  gin orangebitters oranges cherry      9.0   \n",
       "\n",
       "   Number of Votes  \n",
       "0             47.0  \n",
       "1             27.0  \n",
       "2             16.0  \n",
       "3             23.0  \n",
       "4             21.0  "
      ]
     },
     "execution_count": 100,
     "metadata": {},
     "output_type": "execute_result"
    }
   ],
   "source": [
    "### read the recipe datafram\n",
    "recipe_df = pd.read_csv('cocktail_rec.csv')\n",
    "\n",
    "recipe_df.head()"
   ]
  },
  {
   "cell_type": "code",
   "execution_count": 18,
   "metadata": {},
   "outputs": [
    {
     "data": {
      "text/html": [
       "<div>\n",
       "<style scoped>\n",
       "    .dataframe tbody tr th:only-of-type {\n",
       "        vertical-align: middle;\n",
       "    }\n",
       "\n",
       "    .dataframe tbody tr th {\n",
       "        vertical-align: top;\n",
       "    }\n",
       "\n",
       "    .dataframe thead th {\n",
       "        text-align: right;\n",
       "    }\n",
       "</style>\n",
       "<table border=\"1\" class=\"dataframe\">\n",
       "  <thead>\n",
       "    <tr style=\"text-align: right;\">\n",
       "      <th></th>\n",
       "      <th>Cocktail</th>\n",
       "      <th>Recipe</th>\n",
       "      <th>Rating</th>\n",
       "      <th>Number of Votes</th>\n",
       "      <th>Number of Ingredients</th>\n",
       "    </tr>\n",
       "  </thead>\n",
       "  <tbody>\n",
       "    <tr>\n",
       "      <th>0</th>\n",
       "      <td>187</td>\n",
       "      <td>RedRum®rum 99Bananas®bananaschnapps strawberry...</td>\n",
       "      <td>7.8</td>\n",
       "      <td>47.0</td>\n",
       "      <td>9</td>\n",
       "    </tr>\n",
       "    <tr>\n",
       "      <th>1</th>\n",
       "      <td>209 East</td>\n",
       "      <td>Sauza®HornitosReposadotequila Cointreau®orange...</td>\n",
       "      <td>7.4</td>\n",
       "      <td>27.0</td>\n",
       "      <td>4</td>\n",
       "    </tr>\n",
       "    <tr>\n",
       "      <th>2</th>\n",
       "      <td>352</td>\n",
       "      <td>151proofrum GreyGoose®vodka WildTurkey®bourbon...</td>\n",
       "      <td>7.0</td>\n",
       "      <td>16.0</td>\n",
       "      <td>3</td>\n",
       "    </tr>\n",
       "  </tbody>\n",
       "</table>\n",
       "</div>"
      ],
      "text/plain": [
       "   Cocktail                                             Recipe  Rating  \\\n",
       "0       187  RedRum®rum 99Bananas®bananaschnapps strawberry...     7.8   \n",
       "1  209 East  Sauza®HornitosReposadotequila Cointreau®orange...     7.4   \n",
       "2       352  151proofrum GreyGoose®vodka WildTurkey®bourbon...     7.0   \n",
       "\n",
       "   Number of Votes  Number of Ingredients  \n",
       "0             47.0                      9  \n",
       "1             27.0                      4  \n",
       "2             16.0                      3  "
      ]
     },
     "execution_count": 18,
     "metadata": {},
     "output_type": "execute_result"
    }
   ],
   "source": [
    "## build a series of number of ingredients and add to recipe_df\n",
    "\n",
    "recipe_df['Number of Ingredients']  = recipe_df['Recipe'].apply(lambda st : len(st.split()))\n",
    "recipe_df.head(3)"
   ]
  },
  {
   "cell_type": "code",
   "execution_count": 19,
   "metadata": {},
   "outputs": [
    {
     "data": {
      "text/plain": [
       "Cocktail                   0\n",
       "Recipe                     0\n",
       "Rating                   136\n",
       "Number of Votes          136\n",
       "Number of Ingredients      0\n",
       "dtype: int64"
      ]
     },
     "execution_count": 19,
     "metadata": {},
     "output_type": "execute_result"
    }
   ],
   "source": [
    "## missing element ?\n",
    "\n",
    "recipe_df.isnull().sum()"
   ]
  },
  {
   "cell_type": "code",
   "execution_count": 20,
   "metadata": {},
   "outputs": [
    {
     "data": {
      "text/plain": [
       "4    246\n",
       "3    228\n",
       "5    121\n",
       "2     49\n",
       "6     47\n",
       "7     15\n",
       "9      3\n",
       "8      3\n",
       "Name: Number of Ingredients, dtype: int64"
      ]
     },
     "execution_count": 20,
     "metadata": {},
     "output_type": "execute_result"
    }
   ],
   "source": [
    "recipe_df[\"Number of Ingredients\"].value_counts()"
   ]
  },
  {
   "cell_type": "code",
   "execution_count": 25,
   "metadata": {},
   "outputs": [
    {
     "data": {
      "text/plain": [
       "Text(0, 0.5, '')"
      ]
     },
     "execution_count": 25,
     "metadata": {},
     "output_type": "execute_result"
    },
    {
     "data": {
      "image/png": "[encoded data removed]",
      "text/plain": [
       "<Figure size 1080x288 with 3 Axes>"
      ]
     },
     "metadata": {
      "needs_background": "light"
     },
     "output_type": "display_data"
    }
   ],
   "source": [
    "# see the distributions\n",
    "\n",
    "fig, ax = plt.subplots(1,3, figsize=(15,4))\n",
    "recipe_df[\"Number of Ingredients\"].value_counts().sort_index().plot(kind=\"bar\", ax=ax[0])\n",
    "ax[0].set_xlabel(\"Number of Ingredients\")\n",
    "ax[0].set_ylabel(\"Counts\")\n",
    "\n",
    "recipe_df[\"Number of Votes\"].plot.hist(ax=ax[1])\n",
    "ax[1].set_xlabel(\"Number of Votes\")\n",
    "ax[1].set_ylabel(\"\")\n",
    "\n",
    "\n",
    "recipe_df[\"Rating\"].plot.hist(ax=ax[2])\n",
    "ax[2].set_xlabel(\"Rating\")\n",
    "ax[2].set_ylabel(\"\")"
   ]
  },
  {
   "cell_type": "code",
   "execution_count": 14,
   "metadata": {},
   "outputs": [],
   "source": [
    "# not_rated_df = recipe_df[recipe_df.isnull().any(axis=1)]\n",
    "# not_rated_df.head(8)"
   ]
  },
  {
   "cell_type": "markdown",
   "metadata": {},
   "source": [
    "### Look at drinks that have ratings"
   ]
  },
  {
   "cell_type": "code",
   "execution_count": 15,
   "metadata": {},
   "outputs": [
    {
     "data": {
      "text/plain": [
       "count    576.000000\n",
       "mean       8.031076\n",
       "std        1.729918\n",
       "min        1.000000\n",
       "25%        7.175000\n",
       "50%        8.500000\n",
       "75%        9.300000\n",
       "max       10.000000\n",
       "Name: Rating, dtype: float64"
      ]
     },
     "execution_count": 15,
     "metadata": {},
     "output_type": "execute_result"
    }
   ],
   "source": [
    "# build a new data frame by removing None values for rate \n",
    "recipe_df_rate = recipe_df.dropna()\n",
    "recipe_df_rate[\"Rating\"].describe()"
   ]
  },
  {
   "cell_type": "code",
   "execution_count": 101,
   "metadata": {},
   "outputs": [
    {
     "data": {
      "text/html": [
       "<div>\n",
       "<style scoped>\n",
       "    .dataframe tbody tr th:only-of-type {\n",
       "        vertical-align: middle;\n",
       "    }\n",
       "\n",
       "    .dataframe tbody tr th {\n",
       "        vertical-align: top;\n",
       "    }\n",
       "\n",
       "    .dataframe thead th {\n",
       "        text-align: right;\n",
       "    }\n",
       "</style>\n",
       "<table border=\"1\" class=\"dataframe\">\n",
       "  <thead>\n",
       "    <tr style=\"text-align: right;\">\n",
       "      <th></th>\n",
       "      <th>Cocktail</th>\n",
       "      <th>Recipe</th>\n",
       "      <th>Rating</th>\n",
       "      <th>Number of Votes</th>\n",
       "      <th>Number of Ingredients</th>\n",
       "    </tr>\n",
       "  </thead>\n",
       "  <tbody>\n",
       "    <tr>\n",
       "      <th>170</th>\n",
       "      <td>Cosmopolitan</td>\n",
       "      <td>vodka triplesec Rose's®limejuice cranberryjuice</td>\n",
       "      <td>9.1</td>\n",
       "      <td>2673.0</td>\n",
       "      <td>4</td>\n",
       "    </tr>\n",
       "    <tr>\n",
       "      <th>432</th>\n",
       "      <td>Margarita</td>\n",
       "      <td>tequila triplesec limejuice</td>\n",
       "      <td>9.1</td>\n",
       "      <td>1120.0</td>\n",
       "      <td>3</td>\n",
       "    </tr>\n",
       "    <tr>\n",
       "      <th>690</th>\n",
       "      <td>Washington Apple</td>\n",
       "      <td>CrownRoyal®Canadianwhisky DeKuyper®SourApplePu...</td>\n",
       "      <td>9.6</td>\n",
       "      <td>918.0</td>\n",
       "      <td>3</td>\n",
       "    </tr>\n",
       "    <tr>\n",
       "      <th>431</th>\n",
       "      <td>Manhattan</td>\n",
       "      <td>sweetvermouth bourbonwhiskey Angostura®bitters...</td>\n",
       "      <td>9.5</td>\n",
       "      <td>717.0</td>\n",
       "      <td>5</td>\n",
       "    </tr>\n",
       "    <tr>\n",
       "      <th>438</th>\n",
       "      <td>Martini</td>\n",
       "      <td>gin dryvermouth</td>\n",
       "      <td>8.9</td>\n",
       "      <td>599.0</td>\n",
       "      <td>2</td>\n",
       "    </tr>\n",
       "    <tr>\n",
       "      <th>417</th>\n",
       "      <td>Long Island</td>\n",
       "      <td>tequila gin whiskey whiterum vodka sugarsyrup ...</td>\n",
       "      <td>9.6</td>\n",
       "      <td>442.0</td>\n",
       "      <td>8</td>\n",
       "    </tr>\n",
       "    <tr>\n",
       "      <th>487</th>\n",
       "      <td>Negroni</td>\n",
       "      <td>gin sweetvermouth Campari®bitters</td>\n",
       "      <td>9.6</td>\n",
       "      <td>311.0</td>\n",
       "      <td>3</td>\n",
       "    </tr>\n",
       "    <tr>\n",
       "      <th>57</th>\n",
       "      <td>Bellini</td>\n",
       "      <td>peachnectar lemonjuice peachschnapps Champagne...</td>\n",
       "      <td>9.5</td>\n",
       "      <td>230.0</td>\n",
       "      <td>5</td>\n",
       "    </tr>\n",
       "  </tbody>\n",
       "</table>\n",
       "</div>"
      ],
      "text/plain": [
       "             Cocktail                                             Recipe  \\\n",
       "170      Cosmopolitan   vodka triplesec Rose's®limejuice cranberryjuice    \n",
       "432         Margarita                       tequila triplesec limejuice    \n",
       "690  Washington Apple  CrownRoyal®Canadianwhisky DeKuyper®SourApplePu...   \n",
       "431         Manhattan  sweetvermouth bourbonwhiskey Angostura®bitters...   \n",
       "438           Martini                                   gin dryvermouth    \n",
       "417       Long Island  tequila gin whiskey whiterum vodka sugarsyrup ...   \n",
       "487           Negroni                 gin sweetvermouth Campari®bitters    \n",
       "57            Bellini  peachnectar lemonjuice peachschnapps Champagne...   \n",
       "\n",
       "     Rating  Number of Votes  Number of Ingredients  \n",
       "170     9.1           2673.0                      4  \n",
       "432     9.1           1120.0                      3  \n",
       "690     9.6            918.0                      3  \n",
       "431     9.5            717.0                      5  \n",
       "438     8.9            599.0                      2  \n",
       "417     9.6            442.0                      8  \n",
       "487     9.6            311.0                      3  \n",
       "57      9.5            230.0                      5  "
      ]
     },
     "execution_count": 101,
     "metadata": {},
     "output_type": "execute_result"
    }
   ],
   "source": [
    "# most used drinks (top 20)\n",
    "\n",
    "recipe_df_rate.sort_values(by=\"Number of Votes\", ascending=False).head(8)"
   ]
  },
  {
   "cell_type": "code",
   "execution_count": 17,
   "metadata": {},
   "outputs": [],
   "source": [
    "## How many cocktails have a specific number of ingredients\n",
    "## num_dict={num_of_ingridients: (rate<5, 5<rate<8, 8<rate<10)}\n",
    "\n",
    "num_dict = {}\n",
    "for ingr_num in recipe_df_rate['Number of Ingredients']:\n",
    "    \n",
    "    # number of cocktails with rating below 5\n",
    "    num_of_cockt_5 = list(recipe_df_rate[recipe_df_rate['Rating']<=5]['Number of Ingredients']).count(ingr_num)\n",
    "    # number of cocktails with rating between 5 and 8\n",
    "    num_of_cockt_8 = list(recipe_df_rate[(recipe_df_rate['Rating']<=8) & (recipe_df_rate['Rating']>5)]['Number of Ingredients']).count(ingr_num)\n",
    "    # number of cocktails with rating between 8 and 10\n",
    "    num_of_cockt_10 = list(recipe_df_rate[recipe_df_rate['Rating']>8]['Number of Ingredients']).count(ingr_num)\n",
    "    \n",
    "    num_dict[ingr_num] = (num_of_cockt_5, num_of_cockt_8, num_of_cockt_10) \n",
    "    \n",
    "num_sorted = sorted(num_dict.items(), key=lambda x: x[0])"
   ]
  },
  {
   "cell_type": "code",
   "execution_count": 111,
   "metadata": {},
   "outputs": [
    {
     "data": {
      "image/png": "[encoded data removed]",
      "text/plain": [
       "<Figure size 432x288 with 1 Axes>"
      ]
     },
     "metadata": {
      "needs_background": "light"
     },
     "output_type": "display_data"
    }
   ],
   "source": [
    "num_of_ingr = [ingr for ingr,count in num_sorted]\n",
    "\n",
    "num_of_cockt_5 = [count[0] for ingr,count in num_sorted]\n",
    "num_of_cockt_7 = [count[1] for ingr,count in num_sorted]\n",
    "num_of_cockt_10 = [count[2] for ingr,count in num_sorted]\n",
    "\n",
    "\n",
    "p1 = plt.bar(num_of_ingr, num_of_cockt_5, align='center')\n",
    "\n",
    "p2 = plt.bar(num_of_ingr, num_of_cockt_7, bottom=num_of_cockt_5 , align='center')\n",
    "\n",
    "p3 = plt.bar(num_of_ingr, num_of_cockt_10, bottom=num_of_cockt_7 , align='center')\n",
    "\n",
    "plt.legend((p1,p2,p3),('Rating < 5','5 < Rating < 8 ','8 < Rating < 10'))\n",
    "\n",
    "plt.xlabel('Number of Ingredients')\n",
    "plt.ylabel('Number of Cocktails')\n",
    "\n",
    "plt.show()\n"
   ]
  },
  {
   "cell_type": "code",
   "execution_count": 112,
   "metadata": {},
   "outputs": [
    {
     "data": {
      "text/plain": [
       "count     576.000000\n",
       "mean       21.961806\n",
       "std       135.104244\n",
       "min         1.000000\n",
       "25%         2.000000\n",
       "50%         4.000000\n",
       "75%         9.000000\n",
       "max      2673.000000\n",
       "Name: Number of Votes, dtype: float64"
      ]
     },
     "execution_count": 112,
     "metadata": {},
     "output_type": "execute_result"
    }
   ],
   "source": [
    "recipe_df_rate[\"Number of Votes\"].describe()"
   ]
  },
  {
   "cell_type": "code",
   "execution_count": 104,
   "metadata": {},
   "outputs": [
    {
     "data": {
      "text/html": [
       "<div>\n",
       "<style scoped>\n",
       "    .dataframe tbody tr th:only-of-type {\n",
       "        vertical-align: middle;\n",
       "    }\n",
       "\n",
       "    .dataframe tbody tr th {\n",
       "        vertical-align: top;\n",
       "    }\n",
       "\n",
       "    .dataframe thead th {\n",
       "        text-align: right;\n",
       "    }\n",
       "</style>\n",
       "<table border=\"1\" class=\"dataframe\">\n",
       "  <thead>\n",
       "    <tr style=\"text-align: right;\">\n",
       "      <th></th>\n",
       "      <th>Cocktail</th>\n",
       "      <th>Recipe</th>\n",
       "      <th>Rating</th>\n",
       "      <th>Number of Votes</th>\n",
       "      <th>Number of Ingredients</th>\n",
       "    </tr>\n",
       "  </thead>\n",
       "  <tbody>\n",
       "    <tr>\n",
       "      <th>417</th>\n",
       "      <td>Long Island</td>\n",
       "      <td>tequila gin whiskey whiterum vodka sugarsyrup ...</td>\n",
       "      <td>9.6</td>\n",
       "      <td>442.0</td>\n",
       "      <td>8</td>\n",
       "    </tr>\n",
       "    <tr>\n",
       "      <th>291</th>\n",
       "      <td>Fruit</td>\n",
       "      <td>orangejuice grapefruitjuice passion-fruitjuice...</td>\n",
       "      <td>8.6</td>\n",
       "      <td>221.0</td>\n",
       "      <td>7</td>\n",
       "    </tr>\n",
       "    <tr>\n",
       "      <th>416</th>\n",
       "      <td>Long Beach</td>\n",
       "      <td>tequila triplesec rum vodka gin sweetandsourmi...</td>\n",
       "      <td>9.3</td>\n",
       "      <td>114.0</td>\n",
       "      <td>7</td>\n",
       "    </tr>\n",
       "    <tr>\n",
       "      <th>0</th>\n",
       "      <td>187</td>\n",
       "      <td>RedRum®rum 99Bananas®bananaschnapps strawberry...</td>\n",
       "      <td>7.8</td>\n",
       "      <td>47.0</td>\n",
       "      <td>9</td>\n",
       "    </tr>\n",
       "    <tr>\n",
       "      <th>606</th>\n",
       "      <td>Sazerac</td>\n",
       "      <td>sugar ryewhiskey Deva®absinthe Peychaud®bitter...</td>\n",
       "      <td>9.5</td>\n",
       "      <td>34.0</td>\n",
       "      <td>7</td>\n",
       "    </tr>\n",
       "    <tr>\n",
       "      <th>292</th>\n",
       "      <td>Fruit #2</td>\n",
       "      <td>Absolut®Mandrinvodka CaptainMorgan®ParrotBaypi...</td>\n",
       "      <td>9.3</td>\n",
       "      <td>15.0</td>\n",
       "      <td>7</td>\n",
       "    </tr>\n",
       "    <tr>\n",
       "      <th>317</th>\n",
       "      <td>H-Bomb</td>\n",
       "      <td>vodka tequila rum gin triplesec sweetandsourmi...</td>\n",
       "      <td>9.5</td>\n",
       "      <td>15.0</td>\n",
       "      <td>7</td>\n",
       "    </tr>\n",
       "    <tr>\n",
       "      <th>640</th>\n",
       "      <td>Stoli Fruit</td>\n",
       "      <td>Stoli®Ohranjvodka Stoli®Razberivodka Stoli®Str...</td>\n",
       "      <td>7.1</td>\n",
       "      <td>9.0</td>\n",
       "      <td>9</td>\n",
       "    </tr>\n",
       "    <tr>\n",
       "      <th>353</th>\n",
       "      <td>Iced Tea</td>\n",
       "      <td>darkrum brandy triplesec orangejuice limejuice...</td>\n",
       "      <td>7.4</td>\n",
       "      <td>7.0</td>\n",
       "      <td>7</td>\n",
       "    </tr>\n",
       "    <tr>\n",
       "      <th>565</th>\n",
       "      <td>Purple</td>\n",
       "      <td>SouthernComfort®peachliqueur BlueCuracaoliqueu...</td>\n",
       "      <td>5.5</td>\n",
       "      <td>4.0</td>\n",
       "      <td>7</td>\n",
       "    </tr>\n",
       "  </tbody>\n",
       "</table>\n",
       "</div>"
      ],
      "text/plain": [
       "        Cocktail                                             Recipe  Rating  \\\n",
       "417  Long Island  tequila gin whiskey whiterum vodka sugarsyrup ...     9.6   \n",
       "291        Fruit  orangejuice grapefruitjuice passion-fruitjuice...     8.6   \n",
       "416   Long Beach  tequila triplesec rum vodka gin sweetandsourmi...     9.3   \n",
       "0            187  RedRum®rum 99Bananas®bananaschnapps strawberry...     7.8   \n",
       "606      Sazerac  sugar ryewhiskey Deva®absinthe Peychaud®bitter...     9.5   \n",
       "292     Fruit #2  Absolut®Mandrinvodka CaptainMorgan®ParrotBaypi...     9.3   \n",
       "317       H-Bomb  vodka tequila rum gin triplesec sweetandsourmi...     9.5   \n",
       "640  Stoli Fruit  Stoli®Ohranjvodka Stoli®Razberivodka Stoli®Str...     7.1   \n",
       "353     Iced Tea  darkrum brandy triplesec orangejuice limejuice...     7.4   \n",
       "565       Purple  SouthernComfort®peachliqueur BlueCuracaoliqueu...     5.5   \n",
       "\n",
       "     Number of Votes  Number of Ingredients  \n",
       "417            442.0                      8  \n",
       "291            221.0                      7  \n",
       "416            114.0                      7  \n",
       "0               47.0                      9  \n",
       "606             34.0                      7  \n",
       "292             15.0                      7  \n",
       "317             15.0                      7  \n",
       "640              9.0                      9  \n",
       "353              7.0                      7  \n",
       "565              4.0                      7  "
      ]
     },
     "execution_count": 104,
     "metadata": {},
     "output_type": "execute_result"
    }
   ],
   "source": [
    "# Drinks with 7,8 and 9 ingredients sorted by number of votes\n",
    "\n",
    "recipe_df_rate[(recipe_df_rate[\"Number of Ingredients\"]>=7)].sort_values(by=\"Number of Votes\",ascending=False).head(10)"
   ]
  },
  {
   "cell_type": "markdown",
   "metadata": {},
   "source": [
    "## <font color='blue'> Recommendation system for the original data frame </font>"
   ]
  },
  {
   "cell_type": "code",
   "execution_count": 52,
   "metadata": {},
   "outputs": [],
   "source": [
    "###  Find the count matrix\n",
    "\n",
    "count_vec = CountVectorizer() \n",
    "feature_vec = count_vec.fit_transform(recipe_df[\"Recipe\"])\n",
    "\n",
    "\n",
    "### generating the cosine similarity matrix\n",
    "\n",
    "cos_sim = cosine_similarity(feature_vec, feature_vec)\n",
    "\n",
    "cos_sim_df = pd.DataFrame(cos_sim )\n",
    "\n",
    "\n",
    "### find the count vector \n",
    "# vocab_vec = count_vec.fit_transform(recipe_df[\"Recipe\"])\n",
    "\n"
   ]
  },
  {
   "cell_type": "code",
   "execution_count": 53,
   "metadata": {},
   "outputs": [
    {
     "data": {
      "text/html": [
       "<div>\n",
       "<style scoped>\n",
       "    .dataframe tbody tr th:only-of-type {\n",
       "        vertical-align: middle;\n",
       "    }\n",
       "\n",
       "    .dataframe tbody tr th {\n",
       "        vertical-align: top;\n",
       "    }\n",
       "\n",
       "    .dataframe thead th {\n",
       "        text-align: right;\n",
       "    }\n",
       "</style>\n",
       "<table border=\"1\" class=\"dataframe\">\n",
       "  <thead>\n",
       "    <tr style=\"text-align: right;\">\n",
       "      <th></th>\n",
       "      <th>0</th>\n",
       "      <th>1</th>\n",
       "      <th>2</th>\n",
       "      <th>3</th>\n",
       "      <th>4</th>\n",
       "      <th>5</th>\n",
       "      <th>6</th>\n",
       "      <th>7</th>\n",
       "      <th>8</th>\n",
       "      <th>9</th>\n",
       "      <th>...</th>\n",
       "      <th>702</th>\n",
       "      <th>703</th>\n",
       "      <th>704</th>\n",
       "      <th>705</th>\n",
       "      <th>706</th>\n",
       "      <th>707</th>\n",
       "      <th>708</th>\n",
       "      <th>709</th>\n",
       "      <th>710</th>\n",
       "      <th>711</th>\n",
       "    </tr>\n",
       "  </thead>\n",
       "  <tbody>\n",
       "    <tr>\n",
       "      <th>0</th>\n",
       "      <td>1.0</td>\n",
       "      <td>0.000000</td>\n",
       "      <td>0.0</td>\n",
       "      <td>0.000000</td>\n",
       "      <td>0.000000</td>\n",
       "      <td>0.0</td>\n",
       "      <td>0.000000</td>\n",
       "      <td>0.000000</td>\n",
       "      <td>0.117851</td>\n",
       "      <td>0.166667</td>\n",
       "      <td>...</td>\n",
       "      <td>0.129099</td>\n",
       "      <td>0.000000</td>\n",
       "      <td>0.000000</td>\n",
       "      <td>0.0</td>\n",
       "      <td>0.000000</td>\n",
       "      <td>0.000000</td>\n",
       "      <td>0.000000</td>\n",
       "      <td>0.166667</td>\n",
       "      <td>0.000000</td>\n",
       "      <td>0.0</td>\n",
       "    </tr>\n",
       "    <tr>\n",
       "      <th>1</th>\n",
       "      <td>0.0</td>\n",
       "      <td>1.000000</td>\n",
       "      <td>0.0</td>\n",
       "      <td>0.169031</td>\n",
       "      <td>0.000000</td>\n",
       "      <td>0.0</td>\n",
       "      <td>0.000000</td>\n",
       "      <td>0.000000</td>\n",
       "      <td>0.000000</td>\n",
       "      <td>0.000000</td>\n",
       "      <td>...</td>\n",
       "      <td>0.000000</td>\n",
       "      <td>0.000000</td>\n",
       "      <td>0.000000</td>\n",
       "      <td>0.0</td>\n",
       "      <td>0.000000</td>\n",
       "      <td>0.000000</td>\n",
       "      <td>0.000000</td>\n",
       "      <td>0.000000</td>\n",
       "      <td>0.000000</td>\n",
       "      <td>0.0</td>\n",
       "    </tr>\n",
       "    <tr>\n",
       "      <th>2</th>\n",
       "      <td>0.0</td>\n",
       "      <td>0.000000</td>\n",
       "      <td>1.0</td>\n",
       "      <td>0.000000</td>\n",
       "      <td>0.000000</td>\n",
       "      <td>0.0</td>\n",
       "      <td>0.000000</td>\n",
       "      <td>0.000000</td>\n",
       "      <td>0.000000</td>\n",
       "      <td>0.000000</td>\n",
       "      <td>...</td>\n",
       "      <td>0.000000</td>\n",
       "      <td>0.000000</td>\n",
       "      <td>0.200000</td>\n",
       "      <td>0.0</td>\n",
       "      <td>0.000000</td>\n",
       "      <td>0.000000</td>\n",
       "      <td>0.000000</td>\n",
       "      <td>0.000000</td>\n",
       "      <td>0.000000</td>\n",
       "      <td>0.0</td>\n",
       "    </tr>\n",
       "    <tr>\n",
       "      <th>3</th>\n",
       "      <td>0.0</td>\n",
       "      <td>0.169031</td>\n",
       "      <td>0.0</td>\n",
       "      <td>1.000000</td>\n",
       "      <td>0.223607</td>\n",
       "      <td>0.0</td>\n",
       "      <td>0.258199</td>\n",
       "      <td>0.000000</td>\n",
       "      <td>0.000000</td>\n",
       "      <td>0.258199</td>\n",
       "      <td>...</td>\n",
       "      <td>0.200000</td>\n",
       "      <td>0.316228</td>\n",
       "      <td>0.200000</td>\n",
       "      <td>0.0</td>\n",
       "      <td>0.365148</td>\n",
       "      <td>0.258199</td>\n",
       "      <td>0.000000</td>\n",
       "      <td>0.258199</td>\n",
       "      <td>0.223607</td>\n",
       "      <td>0.0</td>\n",
       "    </tr>\n",
       "    <tr>\n",
       "      <th>4</th>\n",
       "      <td>0.0</td>\n",
       "      <td>0.000000</td>\n",
       "      <td>0.0</td>\n",
       "      <td>0.223607</td>\n",
       "      <td>1.000000</td>\n",
       "      <td>0.0</td>\n",
       "      <td>0.288675</td>\n",
       "      <td>0.288675</td>\n",
       "      <td>0.000000</td>\n",
       "      <td>0.000000</td>\n",
       "      <td>...</td>\n",
       "      <td>0.000000</td>\n",
       "      <td>0.353553</td>\n",
       "      <td>0.223607</td>\n",
       "      <td>0.0</td>\n",
       "      <td>0.204124</td>\n",
       "      <td>0.288675</td>\n",
       "      <td>0.353553</td>\n",
       "      <td>0.000000</td>\n",
       "      <td>0.250000</td>\n",
       "      <td>0.0</td>\n",
       "    </tr>\n",
       "  </tbody>\n",
       "</table>\n",
       "<p>5 rows × 712 columns</p>\n",
       "</div>"
      ],
      "text/plain": [
       "   0         1    2         3         4    5         6         7         8    \\\n",
       "0  1.0  0.000000  0.0  0.000000  0.000000  0.0  0.000000  0.000000  0.117851   \n",
       "1  0.0  1.000000  0.0  0.169031  0.000000  0.0  0.000000  0.000000  0.000000   \n",
       "2  0.0  0.000000  1.0  0.000000  0.000000  0.0  0.000000  0.000000  0.000000   \n",
       "3  0.0  0.169031  0.0  1.000000  0.223607  0.0  0.258199  0.000000  0.000000   \n",
       "4  0.0  0.000000  0.0  0.223607  1.000000  0.0  0.288675  0.288675  0.000000   \n",
       "\n",
       "        9    ...       702       703       704  705       706       707  \\\n",
       "0  0.166667  ...  0.129099  0.000000  0.000000  0.0  0.000000  0.000000   \n",
       "1  0.000000  ...  0.000000  0.000000  0.000000  0.0  0.000000  0.000000   \n",
       "2  0.000000  ...  0.000000  0.000000  0.200000  0.0  0.000000  0.000000   \n",
       "3  0.258199  ...  0.200000  0.316228  0.200000  0.0  0.365148  0.258199   \n",
       "4  0.000000  ...  0.000000  0.353553  0.223607  0.0  0.204124  0.288675   \n",
       "\n",
       "        708       709       710  711  \n",
       "0  0.000000  0.166667  0.000000  0.0  \n",
       "1  0.000000  0.000000  0.000000  0.0  \n",
       "2  0.000000  0.000000  0.000000  0.0  \n",
       "3  0.000000  0.258199  0.223607  0.0  \n",
       "4  0.353553  0.000000  0.250000  0.0  \n",
       "\n",
       "[5 rows x 712 columns]"
      ]
     },
     "execution_count": 53,
     "metadata": {},
     "output_type": "execute_result"
    }
   ],
   "source": [
    "cos_sim_df.head()"
   ]
  },
  {
   "cell_type": "code",
   "execution_count": 99,
   "metadata": {},
   "outputs": [
    {
     "data": {
      "text/html": [
       "<div>\n",
       "<style scoped>\n",
       "    .dataframe tbody tr th:only-of-type {\n",
       "        vertical-align: middle;\n",
       "    }\n",
       "\n",
       "    .dataframe tbody tr th {\n",
       "        vertical-align: top;\n",
       "    }\n",
       "\n",
       "    .dataframe thead th {\n",
       "        text-align: right;\n",
       "    }\n",
       "</style>\n",
       "<table border=\"1\" class=\"dataframe\">\n",
       "  <thead>\n",
       "    <tr style=\"text-align: right;\">\n",
       "      <th></th>\n",
       "      <th>drink</th>\n",
       "      <th>count</th>\n",
       "    </tr>\n",
       "  </thead>\n",
       "  <tbody>\n",
       "    <tr>\n",
       "      <th>167</th>\n",
       "      <td>gin</td>\n",
       "      <td>214</td>\n",
       "    </tr>\n",
       "    <tr>\n",
       "      <th>143</th>\n",
       "      <td>dryvermouth</td>\n",
       "      <td>122</td>\n",
       "    </tr>\n",
       "    <tr>\n",
       "      <th>226</th>\n",
       "      <td>lemonjuice</td>\n",
       "      <td>108</td>\n",
       "    </tr>\n",
       "    <tr>\n",
       "      <th>45</th>\n",
       "      <td>bitters</td>\n",
       "      <td>98</td>\n",
       "    </tr>\n",
       "    <tr>\n",
       "      <th>401</th>\n",
       "      <td>triplesec</td>\n",
       "      <td>93</td>\n",
       "    </tr>\n",
       "    <tr>\n",
       "      <th>185</th>\n",
       "      <td>grenadinesyrup</td>\n",
       "      <td>91</td>\n",
       "    </tr>\n",
       "    <tr>\n",
       "      <th>407</th>\n",
       "      <td>vodka</td>\n",
       "      <td>88</td>\n",
       "    </tr>\n",
       "    <tr>\n",
       "      <th>390</th>\n",
       "      <td>sweetvermouth</td>\n",
       "      <td>85</td>\n",
       "    </tr>\n",
       "    <tr>\n",
       "      <th>285</th>\n",
       "      <td>orangejuice</td>\n",
       "      <td>83</td>\n",
       "    </tr>\n",
       "    <tr>\n",
       "      <th>237</th>\n",
       "      <td>limejuice</td>\n",
       "      <td>74</td>\n",
       "    </tr>\n",
       "  </tbody>\n",
       "</table>\n",
       "</div>"
      ],
      "text/plain": [
       "              drink  count\n",
       "167             gin    214\n",
       "143     dryvermouth    122\n",
       "226      lemonjuice    108\n",
       "45          bitters     98\n",
       "401       triplesec     93\n",
       "185  grenadinesyrup     91\n",
       "407           vodka     88\n",
       "390   sweetvermouth     85\n",
       "285     orangejuice     83\n",
       "237       limejuice     74"
      ]
     },
     "execution_count": 99,
     "metadata": {},
     "output_type": "execute_result"
    }
   ],
   "source": [
    "### The most used ingredients (Top 10)\n",
    "\n",
    "pd.DataFrame(list(zip(count_vec.get_feature_names(),np.asarray(feature_vec.sum(axis=0))[0])), columns=['drink','count']).sort_values(by=\"count\", ascending=False).iloc[0:10]"
   ]
  },
  {
   "cell_type": "code",
   "execution_count": 120,
   "metadata": {},
   "outputs": [],
   "source": [
    "## A function to show the common ingredients between two cocktails\n",
    "\n",
    "def common_ingredients(coct1,coct2):\n",
    "    index1  = recipe_df[recipe_df[\"Cocktail\"]==coct1].index[0]\n",
    "    index2  = recipe_df[recipe_df[\"Cocktail\"]==coct2].index[0]\n",
    "    \n",
    "    recipe1 = recipe_df.iloc[index1][\"Recipe\"].split()\n",
    "    recipe2 = recipe_df.iloc[index2][\"Recipe\"].split()\n",
    "    \n",
    "    common_ingr = []\n",
    "    for ingredient in recipe1:\n",
    "        if ingredient in recipe2:\n",
    "            common_ingr.append(ingredient)\n",
    "            \n",
    "    return common_ingr"
   ]
  },
  {
   "cell_type": "code",
   "execution_count": 121,
   "metadata": {},
   "outputs": [],
   "source": [
    "# a function to return the ingredients\n",
    "def ingredients(cocktail):\n",
    "    ing = recipe_df[recipe_df[\"Cocktail\"]==cocktail][\"Recipe\"].values[0].split()\n",
    "    return ing"
   ]
  },
  {
   "cell_type": "code",
   "execution_count": 122,
   "metadata": {},
   "outputs": [
    {
     "data": {
      "text/plain": [
       "['gin', 'orangebitters', 'cherry']"
      ]
     },
     "execution_count": 122,
     "metadata": {},
     "output_type": "execute_result"
    }
   ],
   "source": [
    "common_ingredients(\"Abbey\",\"Bijou\")"
   ]
  },
  {
   "cell_type": "code",
   "execution_count": 123,
   "metadata": {},
   "outputs": [],
   "source": [
    "###  Build a function that gives the n best matches to two chosen cocktails ###\n",
    "\n",
    "def cocktail_recommender2(cocktail1, cocktail2):\n",
    "    coct1 = cocktail1\n",
    "    coct2 = cocktail2\n",
    "    ind1  = recipe_df[recipe_df[\"Cocktail\"]==coct1].index[0]\n",
    "    ind2  = recipe_df[recipe_df[\"Cocktail\"]==coct2].index[0]\n",
    "\n",
    "    score1 = pd.Series(cos_sim_df[ind1]).drop(labels=[ind1,ind2])    \n",
    "    score2 = pd.Series(cos_sim_df[ind2]).drop(labels=[ind1,ind2])\n",
    "    \n",
    "    score = (score1+score2)/2\n",
    "    score = score.sort_values(ascending= False)\n",
    "    \n",
    "\n",
    "    ## top 5 elements\n",
    "    best_match_ind = list(score.head(5).index)\n",
    "\n",
    "\n",
    "\n",
    "    ## add same scores as 5th cocktail in the list\n",
    "    for i in range(5,712):\n",
    "        if score.iloc[i+1]==score.iloc[i]:\n",
    "            best_match_ind.append(list(score.iloc[i+1:i+2].index)[0])\n",
    "        else:\n",
    "            break\n",
    "    \n",
    "    \n",
    "    ## make the list of at least top 5 matches     \n",
    "    best_match=[]\n",
    "    for i in best_match_ind:\n",
    "        best_match.append(recipe_df.iloc[i][0])\n",
    "        \n",
    "    \n",
    "        \n",
    "    joint = \", \"\n",
    "    line = \"_\"*100\n",
    "    print(f\"If you are a fan of \\\"{coct1}\\\" and \\\"{coct2}\\\", you should also try {joint.join(best_match)}.\\n{line}\")\n",
    "    \n",
    "    coct1_ing = recipe_df.iloc[ind1][\"Recipe\"].split()\n",
    "    coct2_ing = recipe_df.iloc[ind2][\"Recipe\"].split()\n",
    "\n",
    "#     print(f\"{coct1} Ingredients are: {coct1_ing}\")\n",
    "#     print(\"-\"*100)\n",
    "#     print(f\"{coct2} Ingredients are: {coct2_ing}\")\n",
    "\n",
    "#     print(\"\\n\")\n",
    "    \n",
    "#     for match in best_match:\n",
    "#         extra_ing = [ing for ing in ingredients(match) if ing not in ingredients(coct)]\n",
    "        \n",
    "#         print(f\"Common Ingredients with {match}: {common_ingredients(coct,match)}, Extra Ingredients: {extra_ing}\")\n",
    "#         print(\"_\"*100)\n",
    "        \n",
    "#         '''\n",
    "    "
   ]
  },
  {
   "cell_type": "code",
   "execution_count": 124,
   "metadata": {},
   "outputs": [
    {
     "name": "stdout",
     "output_type": "stream",
     "text": [
      "If you are a fan of \"Abbey\" and \"Southern Gin\", you should also try Opal, Tailspin, Crystal Slipper, Hi Ho, Jewel, Bijou, Alaska.\n",
      "____________________________________________________________________________________________________\n"
     ]
    }
   ],
   "source": [
    "cocktail_recommender2(\"Abbey\", \"Southern Gin\")"
   ]
  },
  {
   "cell_type": "code",
   "execution_count": 125,
   "metadata": {},
   "outputs": [],
   "source": [
    "###  Build a function that gives the n best matches to a chosen cocktail ###\n",
    "\n",
    "def cocktail_recommender(cocktail_name):\n",
    "    coct = cocktail_name\n",
    "    ind  = recipe_df[recipe_df[\"Cocktail\"]==coct].index[0]\n",
    "\n",
    "    score = pd.Series(cos_sim_df[ind]).sort_values(ascending= False)\n",
    "\n",
    "    ## ignore the score of the first index which is 1, corresponds to \"coct\" itself\n",
    "    best_match_ind = list(score.iloc[1:6].index)\n",
    "\n",
    "\n",
    "\n",
    "    ## add same scores as 5th cocktail in the list\n",
    "    for i in range(5,712):\n",
    "        if score.iloc[i+1]==score.iloc[i]:\n",
    "            best_match_ind.append(list(score.iloc[i+1:i+2].index)[0])\n",
    "        else:\n",
    "            break\n",
    "    \n",
    "    \n",
    "    ## make the list of at least top 5 matches     \n",
    "    best_match=[]\n",
    "    for i in best_match_ind:\n",
    "        best_match.append(recipe_df.iloc[i][0])\n",
    "        \n",
    "    \n",
    "        \n",
    "    joint = \", \"\n",
    "    line = \"-\"*100\n",
    "    print(f\"If you are a fan of \\\"{coct}\\\", you should also try {joint.join(best_match)}.\\n{line}\")\n",
    "    \n",
    "    coct_ing = recipe_df.iloc[ind][\"Recipe\"].split()\n",
    "    print(f\"\\\"{coct}\\\" Ingredients are: {coct_ing}\")\n",
    "    print(\"\\n\")\n",
    "    \n",
    "    for match in best_match:\n",
    "        extra_ing = [ing for ing in ingredients(match) if ing not in ingredients(coct)]\n",
    "        \n",
    "        print(f\"Common Ingredients with \\\"{match}\\\": {common_ingredients(coct,match)}, Extra Ingredients: {extra_ing}\")\n",
    "        print(\"_\"*100)\n",
    "        "
   ]
  },
  {
   "cell_type": "markdown",
   "metadata": {},
   "source": [
    "## See how the recommender works:"
   ]
  },
  {
   "cell_type": "code",
   "execution_count": 126,
   "metadata": {},
   "outputs": [
    {
     "name": "stdout",
     "output_type": "stream",
     "text": [
      "If you are a fan of \"Negroni\", you should also try Caricature, Perfect, Fernet Branca, Farmer's, Dry Negroni.\n",
      "----------------------------------------------------------------------------------------------------\n",
      "\"Negroni\" Ingredients are: ['gin', 'sweetvermouth', 'Campari®bitters']\n",
      "\n",
      "\n",
      "Common Ingredients with \"Caricature\": ['gin', 'sweetvermouth', 'Campari®bitters'], Extra Ingredients: ['grapefruitjuice', 'simplesyrup']\n",
      "____________________________________________________________________________________________________\n",
      "Common Ingredients with \"Perfect\": ['gin', 'sweetvermouth'], Extra Ingredients: ['dryvermouth', 'bitters']\n",
      "____________________________________________________________________________________________________\n",
      "Common Ingredients with \"Fernet Branca\": ['gin', 'sweetvermouth'], Extra Ingredients: ['FernetBranca®bitters']\n",
      "____________________________________________________________________________________________________\n",
      "Common Ingredients with \"Farmer's\": ['gin', 'sweetvermouth'], Extra Ingredients: ['dryvermouth', 'bitters']\n",
      "____________________________________________________________________________________________________\n",
      "Common Ingredients with \"Dry Negroni\": ['gin', 'Campari®bitters'], Extra Ingredients: ['dryvermouth']\n",
      "____________________________________________________________________________________________________\n"
     ]
    }
   ],
   "source": [
    "cocktail_recommender(\"Negroni\")"
   ]
  },
  {
   "cell_type": "code",
   "execution_count": null,
   "metadata": {},
   "outputs": [],
   "source": []
  }
 ],
 "metadata": {
  "kernelspec": {
   "display_name": "Python 3",
   "language": "python",
   "name": "python3"
  },
  "language_info": {
   "codemirror_mode": {
    "name": "ipython",
    "version": 3
   },
   "file_extension": ".py",
   "mimetype": "text/x-python",
   "name": "python",
   "nbconvert_exporter": "python",
   "pygments_lexer": "ipython3",
   "version": "3.8.7"
  }
 },
 "nbformat": 4,
 "nbformat_minor": 2
}
